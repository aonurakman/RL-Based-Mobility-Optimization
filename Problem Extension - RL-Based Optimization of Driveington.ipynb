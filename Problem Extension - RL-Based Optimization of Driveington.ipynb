{
  "cells": [
    {
      "cell_type": "markdown",
      "source": [
        "# Problem Extension: **Driveington**"
      ],
      "metadata": {
        "id": "ul5WL1cCpnfd"
      },
      "id": "ul5WL1cCpnfd"
    },
    {
      "cell_type": "code",
      "execution_count": 1,
      "id": "e8ad4226",
      "metadata": {
        "id": "e8ad4226"
      },
      "outputs": [],
      "source": [
        "import math\n",
        "import matplotlib.pyplot as plt\n",
        "import numpy as np\n",
        "import time"
      ]
    },
    {
      "cell_type": "markdown",
      "source": [
        "# Introduction"
      ],
      "metadata": {
        "id": "J5eE1sYQp1ME"
      },
      "id": "J5eE1sYQp1ME"
    },
    {
      "cell_type": "markdown",
      "id": "b73d2320",
      "metadata": {
        "id": "b73d2320"
      },
      "source": [
        "![image](https://i.imgur.com/faZJu3H.png)\n"
      ]
    },
    {
      "cell_type": "markdown",
      "source": [
        "In this notebook, the focus is on how to extend the traffic optimization in hand, to a system which realtes better to a real city traffic management.\n",
        "\n",
        "I have designed the above traffic network, which belongs to an imaginary city called **Driveington**.\n",
        "\n",
        "- In this city, the drivers start driving from their origin to their destinations every morning. Each agent has their own origin and destinations pairs. These pairs generated randomly based on a sampling table created by assigning probabilities which indicates for a given city section, how likely it is to be a destination or an origin. For example, the section \"LaneEnd\", thought as a suburban area, is much more likely to be an origin for a driver than a destination. In the other hand, the section \"JamHub\" is considered as the city center, which living costs are expensive but a popular destination.\n",
        "- I have employed an object-oriented approach, which distinguishes the characteristics of each entity in a traffic network.\n",
        "- From a RL perspective, each vehicle (driver) is an agent, and the city itself is the environment. Each vehicle can be one of two types: a bus or a car. The difference is that a bus has twice as much influence on the congestion on a road than a car.\n",
        "- The training is very time consuming, therefore for now I have selected the population as 500. I also implemented stochastic behaviors on the roads, vehicles and the cities. But for the same time constraints, they are disabled for this implementation. If activated, a vehicle can change its destination randomly, a road can become much more congested permanently, and the city might not allow a driver to transfer to a new road on a given time step. These are implemented by keeping in mind the real-life scenerios."
      ],
      "metadata": {
        "id": "Au0SYrX1p5j8"
      },
      "id": "Au0SYrX1p5j8"
    },
    {
      "cell_type": "markdown",
      "source": [
        "# Traffic Network of Driveington as a RL Problem"
      ],
      "metadata": {
        "id": "TXjEFobMsy7H"
      },
      "id": "TXjEFobMsy7H"
    },
    {
      "cell_type": "markdown",
      "source": [
        "### Environment\n",
        "The city itself acts as a RL enviornment. It takes next section ID as an action, an returns the corresponding state with a step reward. If the driver arrived in its destination, any action submitted by the agent is treated the same and the movement is not allowed.\n",
        "\n",
        "### State Space\n",
        "The states in each step are tuples in form `origin, destination, a dictionary of possible roads and the congestions`.\n",
        "\n",
        "### Actions\n",
        "Given the state, the agent has access to the list of next possible routes to take with their congestions. The selected action is the ID of the section that the selected route leads to. The IDs of each city section is their initials. The action selection policy is **deterministic**.\n",
        "\n",
        "In the beginning of the training, the epsilon is equal to 1 for every agent. This is useful for exploring the state space, which is very large in this problem. After the epsilon decays down to 0, the agents start to exploit their policies.\n",
        "\n",
        "### Agents\n",
        "Each vehicle is an agent. Therfore is the population is selected as 500, the system is a multi-agent system with 500 agents.\n",
        "\n",
        "Each agent is from one of the two types: bus or car. A bus has twice as much influence on the road congestion. The busses are 5% of the population.\n",
        "\n",
        "Each agent is focused on reaching to their destinations with maximal cumulative reward. To do that, each of them need to pick routes that not only involve minimal number of turns, but also the time spent in each road should be minimal. Also considering that the agents take actions in an order, the decision of one agent affects other agent's decision. Considering all these, we can see that this is an example of a system with **competing agents**.\n",
        "\n",
        "### Rewards\n",
        "The rewards are calculated as following:\n",
        "\n",
        "- $ - t_x $ if the agent has not arrived, where x is the road agent picked and $t_x$ is the current travel time in the road x.\n",
        "- $ 0 $ if the agent has arrived to its destination, regardless of its action.\n",
        "\n",
        "### Stochastic Behaviors\n",
        "For this implementation, the stoachstic behaviors are disabled. If you wish to enable them, the entities have the following behaviors:\n",
        "\n",
        "- An agent might change it destination in the mid-trajectory.\n",
        "- A road can get more congested temporarily, similar to real-life events like accidents or netural disasters.\n",
        "- A city can reject the movement of an agent, the agent remains on the same road for that timestep.\n",
        "\n",
        "### Episode\n",
        "An episode is not constrained to a limited number of steps. An episode ends when all agents arrive to their destinations. Therefore it might take as little as 1 step, to thousands.\n",
        "\n",
        "### Learning\n",
        "Given above properties of this system, a Deep-Q-Learning approach might seem feasible. However, again, due to the time constraints and that I still observed improvements with this approach, I employed a Q-Learning technique. The Q-table is a look-up table that assigns each state-action pair an expected future reward."
      ],
      "metadata": {
        "id": "6P1DEtGTs3sr"
      },
      "id": "6P1DEtGTs3sr"
    },
    {
      "cell_type": "markdown",
      "source": [
        "# Parameters"
      ],
      "metadata": {
        "id": "NG4DfcUn2fH6"
      },
      "id": "NG4DfcUn2fH6"
    },
    {
      "cell_type": "code",
      "execution_count": 2,
      "id": "0ea2fee4",
      "metadata": {
        "id": "0ea2fee4"
      },
      "outputs": [],
      "source": [
        "population = 500"
      ]
    },
    {
      "cell_type": "code",
      "execution_count": 3,
      "id": "8f0bc392",
      "metadata": {
        "id": "8f0bc392"
      },
      "outputs": [],
      "source": [
        "travel_time = lambda q_x, t0_x, Q_x: t0_x * (1 + pow(q_x/Q_x, 2))"
      ]
    },
    {
      "cell_type": "code",
      "source": [
        "num_episodes = 20000\n",
        "decay_rate = 0.999 # Epsilon decay each episode"
      ],
      "metadata": {
        "id": "iNMdIq7UtCHC"
      },
      "id": "iNMdIq7UtCHC",
      "execution_count": 4,
      "outputs": []
    },
    {
      "cell_type": "markdown",
      "source": [
        "# Classes: Sections, Roads, Vehicles and the City"
      ],
      "metadata": {
        "id": "4bZEPx1I2Xr7"
      },
      "id": "4bZEPx1I2Xr7"
    },
    {
      "cell_type": "code",
      "execution_count": 5,
      "id": "2767ca8b",
      "metadata": {
        "id": "2767ca8b"
      },
      "outputs": [],
      "source": [
        "class Section:\n",
        "\n",
        "    def __init__(self, name):\n",
        "        self.name = name\n",
        "        self.id = name[0]\n",
        "        self.neighbors = list()\n",
        "\n",
        "\n",
        "    def make_connection(self, section):\n",
        "        self.neighbors.append(section)\n",
        "        self.neighbors.sort(key=lambda x: x.id)\n",
        "\n",
        "\n",
        "    def is_neighbor(self, section_id):\n",
        "        for n in self.neighbors:\n",
        "            if n.id == section_id:\n",
        "                return True\n",
        "        return False"
      ]
    },
    {
      "cell_type": "code",
      "execution_count": 6,
      "id": "c4237e52",
      "metadata": {
        "id": "c4237e52"
      },
      "outputs": [],
      "source": [
        "class Road:\n",
        "\n",
        "    def __init__(self, origin, destination, free_flow, capacity):\n",
        "        self.origin = origin\n",
        "        self.destination = destination\n",
        "        self.id = self.origin.id + self.destination.id\n",
        "\n",
        "        self.free_flow = free_flow\n",
        "        self.capacity = capacity\n",
        "        self.number_of_vehicles = 0\n",
        "        self.randomness = -1 #np.random.rand()/50.0 # Random behavior of road (temporary increase of congestion)\n",
        "\n",
        "\n",
        "    def reset(self):\n",
        "        self.number_of_vehicles = 0\n",
        "\n",
        "\n",
        "    def get_congestion(self):\n",
        "        return self.travel_time(self.number_of_vehicles, self.free_flow, self.capacity, self.randomness)\n",
        "\n",
        "\n",
        "    def travel_time(self, q_x, t0_x, Q_x, randomness):\n",
        "        incident = randomness > np.random.rand()\n",
        "        congestion = t0_x * (1 + pow(q_x/Q_x, 2)) * (5 if incident else 1)\n",
        "        return congestion\n",
        "\n",
        "\n",
        "    def add_car(self, influence):\n",
        "        self.number_of_vehicles += influence\n",
        "\n",
        "\n",
        "    def remove_car(self, influence):\n",
        "        self.number_of_vehicles -= influence"
      ]
    },
    {
      "cell_type": "code",
      "execution_count": 7,
      "id": "d369c8f2",
      "metadata": {
        "id": "d369c8f2"
      },
      "outputs": [],
      "source": [
        "class Vehicle: # RL Agent\n",
        "\n",
        "    def __init__(self, id, vehicle_type, origin, destination, alpha=0.3, gamma=0.8, epsilon=1.0):\n",
        "        self.id = id\n",
        "        self.vehicle_type = vehicle_type\n",
        "        self.influence = 1 if (self.vehicle_type == \"car\") else 2\n",
        "\n",
        "        self.origin = origin\n",
        "        self.original_dest = destination\n",
        "        self.destination = self.original_dest\n",
        "        self.prev_location = None\n",
        "        self.location = origin\n",
        "\n",
        "        self.arrived = False\n",
        "        self.randomness = -1 #np.random.rand()/20.0 # # Random behavior of drivers (destination change)\n",
        "\n",
        "        self.q_table = {}\n",
        "\n",
        "        self.alpha = alpha\n",
        "        self.epsilon = epsilon\n",
        "        self.gamma = gamma\n",
        "\n",
        "\n",
        "    def initialize_q_value(self, state, action): # 1\n",
        "        state_str = str(state)  # string as a key\n",
        "        if state_str not in self.q_table:\n",
        "            self.q_table[state_str] = {}\n",
        "        if action not in self.q_table[state_str]:\n",
        "            self.q_table[state_str][action] = 0.0 # -100.0 # Initialize Q-value to 0\n",
        "\n",
        "\n",
        "    def reset(self):\n",
        "        self.prev_location = None\n",
        "        self.location = self.origin\n",
        "        self.arrived = False\n",
        "        self.destination = self.original_dest\n",
        "\n",
        "\n",
        "    def pick_action(self, state):\n",
        "        loc_id, dest_id, congestions = state\n",
        "\n",
        "        possible_actions = list(congestions.keys())\n",
        "        for a in possible_actions:\n",
        "            self.initialize_q_value(state, a)\n",
        "\n",
        "        if np.random.rand() < self.epsilon:\n",
        "            return np.random.choice(possible_actions)\n",
        "        else:\n",
        "            best_value = float(\"-inf\")\n",
        "            best_action = None\n",
        "            for action in possible_actions:\n",
        "                value = self.q_table[str(state)][action]\n",
        "                if value > best_value:\n",
        "                    best_value = value\n",
        "                    best_action = action\n",
        "            return best_action\n",
        "\n",
        "\n",
        "    def learn(self, state, action, reward, next_state):\n",
        "        prev_loc, dest, prev_congestions = state\n",
        "        new_loc, _, new_congestions = next_state\n",
        "\n",
        "        next_possible_actions = list(new_congestions.keys())\n",
        "        for a in next_possible_actions:\n",
        "            self.initialize_q_value(next_state, a)\n",
        "\n",
        "        best_future_q = max(self.q_table[str(next_state)].values())\n",
        "        prev_q = self.q_table[str(state)][action]\n",
        "        new_q =  prev_q + (self.alpha * (reward + (self.gamma * best_future_q)))\n",
        "        self.q_table[str(state)][action] = new_q\n",
        "\n",
        "\n",
        "    def move_to_section(self, section):\n",
        "        #if section == self.location: return False\n",
        "\n",
        "        self.prev_location = self.location\n",
        "        self.location = section\n",
        "\n",
        "        if self.location == self.destination: self.arrived = True\n",
        "\n",
        "        if self.randomness > np.random.rand(): # Vehicle changed destination for some reason\n",
        "            self.destination = np.random.choice((self.origin, np.random.choice(self.destination.neighbors)))\n",
        "\n",
        "        return True\n",
        "\n",
        "\n",
        "    def decay_epsilon(self, decay_rate, min_epsilon=0):\n",
        "        self.epsilon = max(min_epsilon, self.epsilon * decay_rate)"
      ]
    },
    {
      "cell_type": "code",
      "execution_count": 8,
      "id": "1601f670",
      "metadata": {
        "id": "1601f670"
      },
      "outputs": [],
      "source": [
        "class City: # RL Environment\n",
        "\n",
        "    def __init__(self, sections, randomness, state_bin = 5):\n",
        "        self.sections = sections\n",
        "        self.roads = list()\n",
        "        self.randomness = -1 # 0.05 # Random behavior of environment\n",
        "        self.state_bin = state_bin\n",
        "\n",
        "\n",
        "    def reset(self):\n",
        "        for r in self.roads: r.reset()\n",
        "\n",
        "\n",
        "    def build_roads(self, roads):\n",
        "        for road in roads:\n",
        "            section1_id, section2_id, free_flow, capacity = road\n",
        "            section1, section2 = self.get_section_from_id(section1_id), self.get_section_from_id(section2_id)\n",
        "            if all((section1, section2)):\n",
        "                section1.make_connection(section2)\n",
        "                section2.make_connection(section1)\n",
        "                self.roads.append(Road(section1, section2, free_flow, capacity))\n",
        "                self.roads.append(Road(section2, section1, free_flow, capacity))\n",
        "\n",
        "\n",
        "    def step(self, vehicle_influence, prev_loc, loc, dest, action):\n",
        "        arrived = (loc.id == dest.id)\n",
        "\n",
        "        action = action if not arrived else loc.id\n",
        "        prev_loc_id = \"x\" if not prev_loc else prev_loc.id\n",
        "        loc_id, to_section_id = loc.id, action\n",
        "\n",
        "        moved = self.move_vehicle(vehicle_influence, prev_loc_id, loc_id, to_section_id)\n",
        "        next_loc_id = to_section_id if moved else loc_id\n",
        "        next_loc = self.get_section_from_id(next_loc_id)\n",
        "\n",
        "        state = self.get_state(next_loc, dest)\n",
        "\n",
        "        step_penalty = 0\n",
        "        if self.get_road_from_o_d(loc_id, next_loc_id):\n",
        "            step_penalty = -1 * self.get_road_from_o_d(loc_id, next_loc_id).get_congestion()\n",
        "        elif (not arrived) and (not moved):\n",
        "            step_penalty = -1 * self.get_road_from_o_d(prev_loc_id, loc_id).get_congestion()\n",
        "\n",
        "        return step_penalty, state, next_loc\n",
        "\n",
        "\n",
        "    def bin_value(self, value):\n",
        "      return math.ceil(value / self.state_bin)\n",
        "\n",
        "\n",
        "    def get_state(self, loc, dest):\n",
        "        neighbors = loc.neighbors\n",
        "        neighbor_congestions = {n.id: self.bin_value(self.get_road_from_o_d(loc.id, n.id).number_of_vehicles) for n in neighbors}\n",
        "        state = [loc.id, dest.id, neighbor_congestions]\n",
        "        return state\n",
        "\n",
        "\n",
        "    def move_vehicle(self, vehicle_influence, prev_loc_id, loc_id, to_section_id):\n",
        "        incident = self.randomness > np.random.rand()\n",
        "        if not incident:\n",
        "            old_road, new_road = self.get_road_from_o_d(prev_loc_id, loc_id), self.get_road_from_o_d(loc_id, to_section_id)\n",
        "            if old_road: old_road.remove_car(vehicle_influence)\n",
        "            if new_road: new_road.add_car(vehicle_influence)\n",
        "            return True\n",
        "        else: # Vehicle did not move for some reason (stochastic environment)\n",
        "            return False\n",
        "\n",
        "\n",
        "    def get_congestion(self):\n",
        "        congestions = []\n",
        "        for road in self.roads: congestions.append(road.get_congestion())\n",
        "        return sum(congestions)\n",
        "\n",
        "\n",
        "    def get_section_from_id(self, section_id):\n",
        "        for s in self.sections:\n",
        "            if s.id == section_id: return s\n",
        "        return None\n",
        "\n",
        "\n",
        "    def get_road_from_o_d(self, origin, destination):\n",
        "        road_id = origin[0] + destination[0]\n",
        "        for r in self.roads:\n",
        "            if r.id == road_id: return r\n",
        "        return None"
      ]
    },
    {
      "cell_type": "markdown",
      "source": [
        "# Constructing the city"
      ],
      "metadata": {
        "id": "sQA64CAI2Mrd"
      },
      "id": "sQA64CAI2Mrd"
    },
    {
      "cell_type": "code",
      "execution_count": 9,
      "id": "327c0d90",
      "metadata": {
        "id": "327c0d90"
      },
      "outputs": [],
      "source": [
        "def create_sampling_tables(sect_names, sect_sampling_coeff):\n",
        "    sections, origin_sample_table, dest_sample_table = list(), list(), list()\n",
        "    for idx, s in enumerate(sect_names):\n",
        "        sections.append(Section(s))\n",
        "        origin_sample_table.extend([sections[-1]]*sect_sampling_coeff[idx][0])\n",
        "        dest_sample_table.extend([sections[-1]]*sect_sampling_coeff[idx][1])\n",
        "    return sections, origin_sample_table, dest_sample_table"
      ]
    },
    {
      "cell_type": "code",
      "execution_count": 10,
      "id": "a8d96146",
      "metadata": {
        "id": "a8d96146"
      },
      "outputs": [],
      "source": [
        "def generate_population(nr_vehicles, origin_sample_table, dest_sample_table):\n",
        "    vehicles = list()\n",
        "    for i in range(nr_vehicles):\n",
        "        vehicle_type = \"car\" if np.random.rand() > 0.05 else \"bus\"\n",
        "        origin, destination = np.random.choice(origin_sample_table), np.random.choice(dest_sample_table)\n",
        "        while destination == origin: destination = np.random.choice(dest_sample_table)\n",
        "        vehicles.append(Vehicle(i, vehicle_type, origin, destination))\n",
        "    return vehicles"
      ]
    },
    {
      "cell_type": "code",
      "execution_count": 11,
      "id": "b6ab22e2",
      "metadata": {
        "id": "b6ab22e2"
      },
      "outputs": [],
      "source": [
        "sect_names = [\"AveHub\",\"BusBay\",\"CarCove\",\"DashDale\",\"EcoEnd\",\"FastField\",\"GearBay\",\"HighHill\",\"JamHub\",\"KerbKey\",\"LaneEnd\"]\n",
        "# How likely these sections should be origins and destinations?\n",
        "sect_sampling_coeff = [(1, 9), (1, 9), (9, 1), (1, 1), (9, 1), (1, 1), (9, 1), (1, 1), (0, 10), (5, 5), (10, 0)]\n",
        "\n",
        "# Road origins and destinations, free flow durations and capacities\n",
        "roads = [[\"LaneEnd\", \"FastField\", 2/60, 300], [\"FastField\", \"HighHill\", 8/60, 800], [\"HighHill\", \"GearBay\", 6/60, 500],\\\n",
        "         [\"FastField\", \"JamHub\", 13/60, 400], [\"HighHill\", \"BusBay\", 10/60, 500], [\"GearBay\", \"BusBay\", 15/60, 600], \\\n",
        "         [\"GearBay\", \"CarCove\", 25/60, 1000], [\"AveHub\", \"JamHub\", 3/60, 250], [\"JamHub\", \"BusBay\", 4/60, 250], \\\n",
        "         [\"AveHub\", \"EcoEnd\", 15/60, 600], [\"AveHub\", \"KerbKey\", 7/60, 300], [\"JamHub\", \"DashDale\", 9/60, 450], \\\n",
        "         [\"EcoEnd\", \"KerbKey\", 4/60, 250], [\"DashDale\", \"CarCove\", 3/60, 300]]\n",
        "roads = [[r[0][0], r[1][0], r[2], r[3]] for r in roads]"
      ]
    },
    {
      "cell_type": "code",
      "execution_count": 12,
      "id": "e3e356aa",
      "metadata": {
        "id": "e3e356aa"
      },
      "outputs": [],
      "source": [
        "sections, origin_sample_table, dest_sample_table = create_sampling_tables(sect_names, sect_sampling_coeff)\n",
        "vehicles = generate_population(population, origin_sample_table, dest_sample_table)\n",
        "\n",
        "city = City(sections, 0.05)\n",
        "city.build_roads(roads)"
      ]
    },
    {
      "cell_type": "code",
      "execution_count": 13,
      "id": "58d31bd3",
      "metadata": {
        "colab": {
          "base_uri": "https://localhost:8080/"
        },
        "id": "58d31bd3",
        "outputId": "03fe6f51-cc45-4acf-c844-9cc0e1388b5f"
      },
      "outputs": [
        {
          "output_type": "stream",
          "name": "stdout",
          "text": [
            "--- Sections ---\n",
            "AveHub neighbors to: ['EcoEnd', 'JamHub', 'KerbKey']\n",
            "BusBay neighbors to: ['GearBay', 'HighHill', 'JamHub']\n",
            "CarCove neighbors to: ['DashDale', 'GearBay']\n",
            "DashDale neighbors to: ['CarCove', 'JamHub']\n",
            "EcoEnd neighbors to: ['AveHub', 'KerbKey']\n",
            "FastField neighbors to: ['HighHill', 'JamHub', 'LaneEnd']\n",
            "GearBay neighbors to: ['BusBay', 'CarCove', 'HighHill']\n",
            "HighHill neighbors to: ['BusBay', 'FastField', 'GearBay']\n",
            "JamHub neighbors to: ['AveHub', 'BusBay', 'DashDale', 'FastField']\n",
            "KerbKey neighbors to: ['AveHub', 'EcoEnd']\n",
            "LaneEnd neighbors to: ['FastField']\n",
            "\n",
            "--- Some of the vehicles ---\n",
            "car is now at KerbKey. It is going from KerbKey to AveHub\n",
            "car is now at GearBay. It is going from GearBay to BusBay\n",
            "car is now at LaneEnd. It is going from LaneEnd to BusBay\n",
            "car is now at HighHill. It is going from HighHill to KerbKey\n",
            "car is now at AveHub. It is going from AveHub to JamHub\n",
            "car is now at LaneEnd. It is going from LaneEnd to FastField\n",
            "car is now at LaneEnd. It is going from LaneEnd to JamHub\n",
            "car is now at EcoEnd. It is going from EcoEnd to JamHub\n",
            "car is now at GearBay. It is going from GearBay to BusBay\n",
            "car is now at CarCove. It is going from CarCove to AveHub\n"
          ]
        }
      ],
      "source": [
        "print(\"--- Sections ---\")\n",
        "for s in city.sections:\n",
        "    print(s.name, \"neighbors to:\", [x.name for x in s.neighbors])\n",
        "\n",
        "print(\"\\n--- Some of the vehicles ---\")\n",
        "for v in vehicles[:10]:\n",
        "    print(\"%s is now at %s. It is going from %s to %s\"%(v.vehicle_type, v.location.name, v.origin.name, v.destination.name))"
      ]
    },
    {
      "cell_type": "code",
      "execution_count": 14,
      "id": "0fa3a323",
      "metadata": {
        "colab": {
          "base_uri": "https://localhost:8080/"
        },
        "id": "0fa3a323",
        "outputId": "63b5f1b3-a549-41f4-87d9-4133d1ea1d61"
      },
      "outputs": [
        {
          "output_type": "stream",
          "name": "stdout",
          "text": [
            "LaneEnd is the most popular origin with 115 vehicles.\n",
            " JamHub is the most popular destination with 149 vehicles.\n"
          ]
        }
      ],
      "source": [
        "origin_dest_counter = {x:[0, 0] for x in sect_names}\n",
        "for v in vehicles:\n",
        "    origin_dest_counter[v.origin.name][0] += 1\n",
        "    origin_dest_counter[v.destination.name][1] += 1\n",
        "\n",
        "max_dest, max_dest_nr, max_origin, max_origin_nr = None, 0, None, 0\n",
        "for sect, values in origin_dest_counter.items():\n",
        "    org, dest = values\n",
        "    if org > max_origin_nr:\n",
        "        max_origin_nr = org\n",
        "        max_origin = sect\n",
        "    if dest > max_dest_nr:\n",
        "        max_dest_nr = dest\n",
        "        max_dest = sect\n",
        "\n",
        "print(max_origin, \"is the most popular origin with\", max_origin_nr, \"vehicles.\\n\",\\\n",
        "      max_dest, \"is the most popular destination with\", max_dest_nr, \"vehicles.\")"
      ]
    },
    {
      "cell_type": "markdown",
      "source": [
        "# Training"
      ],
      "metadata": {
        "id": "MoAg8ZBI2Q4q"
      },
      "id": "MoAg8ZBI2Q4q"
    },
    {
      "cell_type": "markdown",
      "source": [
        "## Stats from random agents"
      ],
      "metadata": {
        "id": "7j_Cd7zI2GLb"
      },
      "id": "7j_Cd7zI2GLb"
    },
    {
      "cell_type": "markdown",
      "source": [
        "Let's try out for one episode and see what a set of agents which make decisions at random can achieve in this environment."
      ],
      "metadata": {
        "id": "8U_ShiryjbCM"
      },
      "id": "8U_ShiryjbCM"
    },
    {
      "cell_type": "code",
      "source": [
        "city.reset()\n",
        "trajectories = dict()\n",
        "\n",
        "for v in vehicles:\n",
        "  v.reset()\n",
        "  trajectories[v.id] = [v.location.name]\n",
        "\n",
        "episode_reward = 0\n",
        "step_counter = 0\n",
        "step_congestions = list()\n",
        "\n",
        "while not all([v.arrived for v in vehicles]):\n",
        "\n",
        "    step_counter += 1\n",
        "\n",
        "    for v in vehicles:\n",
        "\n",
        "        state = city.get_state(v.location, v.destination)\n",
        "        action = v.pick_action(state)\n",
        "        step_reward, next_state, next_loc = city.step(v.influence, v.prev_location, v.location, v.destination, action)\n",
        "        v.move_to_section(next_loc)\n",
        "\n",
        "        trajectories[v.id].append(next_loc.name)\n",
        "\n",
        "        episode_reward += step_reward\n",
        "\n",
        "    step_congestions.append(city.get_congestion())\n",
        "\n",
        "\n",
        "print(\"Finished episode in %d steps.\" % (step_counter))\n",
        "print(\"Total reward: %.3f\\n\" % (episode_reward))\n",
        "\n",
        "plt.plot(step_congestions, color=\"red\")\n",
        "plt.grid(True)\n",
        "plt.xlabel(\"Steps\")\n",
        "plt.ylabel(\"Traffic congestion\")\n",
        "plt.show()"
      ],
      "metadata": {
        "colab": {
          "base_uri": "https://localhost:8080/",
          "height": 504
        },
        "id": "0vGU5t3q0OtA",
        "outputId": "c366def1-12df-4bcb-ca24-e0f47298076f"
      },
      "id": "0vGU5t3q0OtA",
      "execution_count": 15,
      "outputs": [
        {
          "output_type": "stream",
          "name": "stdout",
          "text": [
            "Finished episode in 140 steps.\n",
            "Total reward: -1291.560\n",
            "\n"
          ]
        },
        {
          "output_type": "display_data",
          "data": {
            "text/plain": [
              "<Figure size 640x480 with 1 Axes>"
            ],
            "image/png": "[encoded data removed]"
          },
          "metadata": {}
        }
      ]
    },
    {
      "cell_type": "code",
      "source": [
        "for v in vehicles[:10]:\n",
        "  print(\"%s #%d moving from %s to %s followed (first 10): \" % (v.vehicle_type, v.id, v.origin.name, v.destination.name), trajectories[v.id][:10])"
      ],
      "metadata": {
        "colab": {
          "base_uri": "https://localhost:8080/"
        },
        "id": "iDRYlXq2joFo",
        "outputId": "16a43fe0-f3ab-434c-f7c8-645ba78c35b4"
      },
      "id": "iDRYlXq2joFo",
      "execution_count": 16,
      "outputs": [
        {
          "output_type": "stream",
          "name": "stdout",
          "text": [
            "car #0 moving from KerbKey to AveHub followed (first 10):  ['KerbKey', 'EcoEnd', 'KerbKey', 'EcoEnd', 'KerbKey', 'AveHub', 'AveHub', 'AveHub', 'AveHub', 'AveHub']\n",
            "car #1 moving from GearBay to BusBay followed (first 10):  ['GearBay', 'CarCove', 'GearBay', 'BusBay', 'BusBay', 'BusBay', 'BusBay', 'BusBay', 'BusBay', 'BusBay']\n",
            "car #2 moving from LaneEnd to BusBay followed (first 10):  ['LaneEnd', 'FastField', 'LaneEnd', 'FastField', 'HighHill', 'GearBay', 'HighHill', 'GearBay', 'BusBay', 'BusBay']\n",
            "car #3 moving from HighHill to KerbKey followed (first 10):  ['HighHill', 'FastField', 'HighHill', 'BusBay', 'GearBay', 'HighHill', 'FastField', 'LaneEnd', 'FastField', 'JamHub']\n",
            "car #4 moving from AveHub to JamHub followed (first 10):  ['AveHub', 'KerbKey', 'AveHub', 'KerbKey', 'EcoEnd', 'KerbKey', 'EcoEnd', 'AveHub', 'JamHub', 'JamHub']\n",
            "car #5 moving from LaneEnd to FastField followed (first 10):  ['LaneEnd', 'FastField', 'FastField', 'FastField', 'FastField', 'FastField', 'FastField', 'FastField', 'FastField', 'FastField']\n",
            "car #6 moving from LaneEnd to JamHub followed (first 10):  ['LaneEnd', 'FastField', 'LaneEnd', 'FastField', 'JamHub', 'JamHub', 'JamHub', 'JamHub', 'JamHub', 'JamHub']\n",
            "car #7 moving from EcoEnd to JamHub followed (first 10):  ['EcoEnd', 'AveHub', 'KerbKey', 'EcoEnd', 'AveHub', 'EcoEnd', 'AveHub', 'JamHub', 'JamHub', 'JamHub']\n",
            "car #8 moving from GearBay to BusBay followed (first 10):  ['GearBay', 'BusBay', 'BusBay', 'BusBay', 'BusBay', 'BusBay', 'BusBay', 'BusBay', 'BusBay', 'BusBay']\n",
            "car #9 moving from CarCove to AveHub followed (first 10):  ['CarCove', 'GearBay', 'CarCove', 'GearBay', 'HighHill', 'FastField', 'LaneEnd', 'FastField', 'JamHub', 'DashDale']\n"
          ]
        }
      ]
    },
    {
      "cell_type": "markdown",
      "source": [
        "## Training Loop"
      ],
      "metadata": {
        "id": "vrIoJjGD2De8"
      },
      "id": "vrIoJjGD2De8"
    },
    {
      "cell_type": "code",
      "execution_count": 17,
      "id": "b617a6f0",
      "metadata": {
        "colab": {
          "base_uri": "https://localhost:8080/"
        },
        "id": "b617a6f0",
        "outputId": "31a47708-6887-4c57-d2c8-5d1a78f5e0f1"
      },
      "outputs": [
        {
          "output_type": "stream",
          "name": "stdout",
          "text": [
            "\rAt episode: 1\r------------ EPISODE #1 ------------\n",
            " [FINAL REWARD] -1255.628 [EPSILON] 0.999000 [STEPS] 189\n",
            "------------ EPISODE #1000 ------------\n",
            " [FINAL REWARD] -402.332 [EPSILON] 0.367695 [STEPS] 39\n",
            "------------ EPISODE #2000 ------------\n",
            " [FINAL REWARD] -341.792 [EPSILON] 0.135200 [STEPS] 19\n",
            "------------ EPISODE #3000 ------------\n",
            " [FINAL REWARD] -318.913 [EPSILON] 0.049712 [STEPS] 21\n",
            "------------ EPISODE #4000 ------------\n",
            " [FINAL REWARD] -277.656 [EPSILON] 0.018279 [STEPS] 15\n",
            "------------ EPISODE #5000 ------------\n",
            " [FINAL REWARD] -268.795 [EPSILON] 0.006721 [STEPS] 12\n",
            "------------ EPISODE #6000 ------------\n",
            " [FINAL REWARD] -271.907 [EPSILON] 0.002471 [STEPS] 11\n",
            "------------ EPISODE #7000 ------------\n",
            " [FINAL REWARD] -264.412 [EPSILON] 0.000909 [STEPS] 14\n",
            "------------ EPISODE #8000 ------------\n",
            " [FINAL REWARD] -274.239 [EPSILON] 0.000334 [STEPS] 12\n",
            "------------ EPISODE #9000 ------------\n",
            " [FINAL REWARD] -263.121 [EPSILON] 0.000123 [STEPS] 15\n",
            "------------ EPISODE #10000 ------------\n",
            " [FINAL REWARD] -259.939 [EPSILON] 0.000045 [STEPS] 16\n",
            "------------ EPISODE #11000 ------------\n",
            " [FINAL REWARD] -251.611 [EPSILON] 0.000017 [STEPS] 14\n",
            "------------ EPISODE #12000 ------------\n",
            " [FINAL REWARD] -249.678 [EPSILON] 0.000006 [STEPS] 9\n",
            "------------ EPISODE #13000 ------------\n",
            " [FINAL REWARD] -245.657 [EPSILON] 0.000002 [STEPS] 10\n",
            "------------ EPISODE #14000 ------------\n",
            " [FINAL REWARD] -255.705 [EPSILON] 0.000001 [STEPS] 15\n",
            "------------ EPISODE #15000 ------------\n",
            " [FINAL REWARD] -266.998 [EPSILON] 0.000000 [STEPS] 11\n",
            "------------ EPISODE #16000 ------------\n",
            " [FINAL REWARD] -244.640 [EPSILON] 0.000000 [STEPS] 11\n",
            "------------ EPISODE #17000 ------------\n",
            " [FINAL REWARD] -239.824 [EPSILON] 0.000000 [STEPS] 9\n",
            "------------ EPISODE #18000 ------------\n",
            " [FINAL REWARD] -238.420 [EPSILON] 0.000000 [STEPS] 10\n",
            "------------ EPISODE #19000 ------------\n",
            " [FINAL REWARD] -243.499 [EPSILON] 0.000000 [STEPS] 10\n",
            "------------ EPISODE #20000 ------------\n",
            " [FINAL REWARD] -235.794 [EPSILON] 0.000000 [STEPS] 10\n",
            "\n",
            "\n",
            "[COMPLETED] : 02 hours, 12 minutes, 52 seconds\n"
          ]
        }
      ],
      "source": [
        "episode_rewards = list()\n",
        "episode_steps = list()\n",
        "\n",
        "start_time = time.time()\n",
        "\n",
        "for episode in range(num_episodes):\n",
        "\n",
        "    city.reset()\n",
        "    for v in vehicles: v.reset()\n",
        "\n",
        "    episode_reward = 0\n",
        "    step_counter = 0\n",
        "\n",
        "    while not all([v.arrived for v in vehicles]):\n",
        "\n",
        "        step_counter += 1\n",
        "\n",
        "        for v in vehicles:\n",
        "\n",
        "            state = city.get_state(v.location, v.destination)\n",
        "            action = v.pick_action(state)\n",
        "            step_reward, next_state, next_loc = city.step(v.influence, v.prev_location, v.location, v.destination, action)\n",
        "            v.learn(state, action, step_reward, next_state)\n",
        "            v.move_to_section(next_loc)\n",
        "\n",
        "            episode_reward += step_reward\n",
        "\n",
        "    print(\"\\rAt episode: %d\" % (episode+1), end='')\n",
        "    episode_steps.append(step_counter)\n",
        "    episode_rewards.append(episode_reward)\n",
        "\n",
        "    for v in vehicles: v.decay_epsilon(decay_rate) # Decay epsilon\n",
        "\n",
        "    if ((episode+1) % (num_episodes//20) == 0) or (episode == 0):\n",
        "        print(\"\\r------------ EPISODE #%d ------------\\n [FINAL REWARD] %.3f [EPSILON] %.6f [STEPS] %d\" \\\n",
        "              % (episode+1, episode_reward, v.epsilon, step_counter))\n",
        "\n",
        "\n",
        "print(\"\\n\\n[COMPLETED] : %s\" % (time.strftime(\"%H hours, %M minutes, %S seconds\", time.gmtime(time.time() - start_time))))\n"
      ]
    },
    {
      "cell_type": "markdown",
      "source": [
        "## Training Stats"
      ],
      "metadata": {
        "id": "MyCnhyJxnlUm"
      },
      "id": "MyCnhyJxnlUm"
    },
    {
      "cell_type": "code",
      "execution_count": 18,
      "id": "90b73743",
      "metadata": {
        "id": "90b73743",
        "colab": {
          "base_uri": "https://localhost:8080/",
          "height": 449
        },
        "outputId": "00970686-43dc-4b6b-e8b5-c80935b5911d"
      },
      "outputs": [
        {
          "output_type": "display_data",
          "data": {
            "text/plain": [
              "<Figure size 640x480 with 1 Axes>"
            ],
            "image/png": "[encoded data removed]"
          },
          "metadata": {}
        }
      ],
      "source": [
        "plt.plot(episode_rewards, color=\"purple\")\n",
        "plt.xlabel(\"Episode\")\n",
        "plt.ylabel(\"Episode rewards\")\n",
        "plt.grid(True)\n",
        "plt.show()"
      ]
    },
    {
      "cell_type": "code",
      "execution_count": 19,
      "id": "28ed7485",
      "metadata": {
        "id": "28ed7485",
        "colab": {
          "base_uri": "https://localhost:8080/",
          "height": 449
        },
        "outputId": "e10cc8fb-c77f-4052-f6d6-dcc84839c47d"
      },
      "outputs": [
        {
          "output_type": "display_data",
          "data": {
            "text/plain": [
              "<Figure size 640x480 with 1 Axes>"
            ],
            "image/png": "[encoded data removed]"
          },
          "metadata": {}
        }
      ],
      "source": [
        "plt.plot(episode_steps, color=\"purple\")\n",
        "plt.xlabel(\"Episode\")\n",
        "plt.ylabel(\"Episode steps\")\n",
        "plt.grid(True)\n",
        "plt.show()"
      ]
    },
    {
      "cell_type": "markdown",
      "source": [
        "# Testing the agents"
      ],
      "metadata": {
        "id": "RY-AmGcRSQob"
      },
      "id": "RY-AmGcRSQob"
    },
    {
      "cell_type": "code",
      "source": [
        "city.reset()\n",
        "trajectories = dict()\n",
        "\n",
        "for v in vehicles:\n",
        "  v.reset()\n",
        "  v.epsilon = 0\n",
        "  trajectories[v.id] = [v.location.name]\n",
        "\n",
        "episode_reward = 0\n",
        "step_counter = 0\n",
        "step_congestions = list()\n",
        "\n",
        "while not all([v.arrived for v in vehicles]):\n",
        "\n",
        "    step_counter += 1\n",
        "\n",
        "    for v in vehicles:\n",
        "\n",
        "        state = city.get_state(v.location, v.destination)\n",
        "        action = v.pick_action(state)\n",
        "        step_reward, next_state, next_loc = city.step(v.influence, v.prev_location, v.location, v.destination, action)\n",
        "        v.move_to_section(next_loc)\n",
        "\n",
        "        trajectories[v.id].append(next_loc.name)\n",
        "\n",
        "        episode_reward += step_reward\n",
        "    print(\"\\rStep: %d\" % (step_counter), end='')\n",
        "    step_congestions.append(city.get_congestion())\n",
        "\n",
        "\n",
        "print(\"\\nFinished episode in %d steps.\" % (step_counter))\n",
        "print(\"Total reward: %.3f\\n\\n\" % (episode_reward))\n",
        "\n",
        "plt.plot(step_congestions, color=\"red\")\n",
        "plt.grid(True)\n",
        "plt.xlabel(\"Steps\")\n",
        "plt.ylabel(\"Traffic congestion\")\n",
        "plt.show()"
      ],
      "metadata": {
        "id": "KBFkL3i4N6CS",
        "colab": {
          "base_uri": "https://localhost:8080/",
          "height": 541
        },
        "outputId": "d75b6edc-a672-44c1-b7d4-147b0bec43bf"
      },
      "id": "KBFkL3i4N6CS",
      "execution_count": 22,
      "outputs": [
        {
          "output_type": "stream",
          "name": "stdout",
          "text": [
            "\rStep: 1\rStep: 2\rStep: 3\rStep: 4\rStep: 5\rStep: 6\rStep: 7\rStep: 8\rStep: 9\rStep: 10\rStep: 11\n",
            "Finished episode in 11 steps.\n",
            "Total reward: -254.144\n",
            "\n",
            "\n"
          ]
        },
        {
          "output_type": "display_data",
          "data": {
            "text/plain": [
              "<Figure size 640x480 with 1 Axes>"
            ],
            "image/png": "[encoded data removed]"
          },
          "metadata": {}
        }
      ]
    },
    {
      "cell_type": "code",
      "source": [
        "for v in vehicles[:10]:\n",
        "  print(\"%s #%d moving from %s to %s followed (first 10): \" % (v.vehicle_type, v.id, v.origin.name, v.destination.name), trajectories[v.id])"
      ],
      "metadata": {
        "id": "fakktJ7XkBeo",
        "colab": {
          "base_uri": "https://localhost:8080/"
        },
        "outputId": "bb684f0d-a701-4cf4-a888-0d13f9406cfc"
      },
      "id": "fakktJ7XkBeo",
      "execution_count": 23,
      "outputs": [
        {
          "output_type": "stream",
          "name": "stdout",
          "text": [
            "car #0 moving from KerbKey to AveHub followed (first 10):  ['KerbKey', 'AveHub', 'AveHub', 'AveHub', 'AveHub', 'AveHub', 'AveHub', 'AveHub', 'AveHub', 'AveHub', 'AveHub', 'AveHub']\n",
            "car #1 moving from GearBay to BusBay followed (first 10):  ['GearBay', 'BusBay', 'BusBay', 'BusBay', 'BusBay', 'BusBay', 'BusBay', 'BusBay', 'BusBay', 'BusBay', 'BusBay', 'BusBay']\n",
            "car #2 moving from LaneEnd to BusBay followed (first 10):  ['LaneEnd', 'FastField', 'JamHub', 'AveHub', 'JamHub', 'BusBay', 'BusBay', 'BusBay', 'BusBay', 'BusBay', 'BusBay', 'BusBay']\n",
            "car #3 moving from HighHill to KerbKey followed (first 10):  ['HighHill', 'FastField', 'LaneEnd', 'FastField', 'JamHub', 'AveHub', 'KerbKey', 'KerbKey', 'KerbKey', 'KerbKey', 'KerbKey', 'KerbKey']\n",
            "car #4 moving from AveHub to JamHub followed (first 10):  ['AveHub', 'JamHub', 'JamHub', 'JamHub', 'JamHub', 'JamHub', 'JamHub', 'JamHub', 'JamHub', 'JamHub', 'JamHub', 'JamHub']\n",
            "car #5 moving from LaneEnd to FastField followed (first 10):  ['LaneEnd', 'FastField', 'FastField', 'FastField', 'FastField', 'FastField', 'FastField', 'FastField', 'FastField', 'FastField', 'FastField', 'FastField']\n",
            "car #6 moving from LaneEnd to JamHub followed (first 10):  ['LaneEnd', 'FastField', 'JamHub', 'JamHub', 'JamHub', 'JamHub', 'JamHub', 'JamHub', 'JamHub', 'JamHub', 'JamHub', 'JamHub']\n",
            "car #7 moving from EcoEnd to JamHub followed (first 10):  ['EcoEnd', 'AveHub', 'JamHub', 'JamHub', 'JamHub', 'JamHub', 'JamHub', 'JamHub', 'JamHub', 'JamHub', 'JamHub', 'JamHub']\n",
            "car #8 moving from GearBay to BusBay followed (first 10):  ['GearBay', 'BusBay', 'BusBay', 'BusBay', 'BusBay', 'BusBay', 'BusBay', 'BusBay', 'BusBay', 'BusBay', 'BusBay', 'BusBay']\n",
            "car #9 moving from CarCove to AveHub followed (first 10):  ['CarCove', 'DashDale', 'CarCove', 'GearBay', 'CarCove', 'GearBay', 'BusBay', 'JamHub', 'AveHub', 'AveHub', 'AveHub', 'AveHub']\n"
          ]
        }
      ]
    }
  ],
  "metadata": {
    "kernelspec": {
      "display_name": "Python 3",
      "name": "python3"
    },
    "language_info": {
      "codemirror_mode": {
        "name": "ipython",
        "version": 3
      },
      "file_extension": ".py",
      "mimetype": "text/x-python",
      "name": "python",
      "nbconvert_exporter": "python",
      "pygments_lexer": "ipython3",
      "version": "3.11.3"
    },
    "colab": {
      "provenance": [],
      "machine_shape": "hm"
    }
  },
  "nbformat": 4,
  "nbformat_minor": 5
}