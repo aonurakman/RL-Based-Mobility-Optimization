{
 "cells": [
  {
   "cell_type": "code",
   "execution_count": 29,
   "id": "e8ad4226",
   "metadata": {},
   "outputs": [],
   "source": [
    "import numpy as np"
   ]
  },
  {
   "cell_type": "markdown",
   "id": "b73d2320",
   "metadata": {},
   "source": [
    "![image](Driveington_chart.png)"
   ]
  },
  {
   "cell_type": "code",
   "execution_count": 30,
   "id": "0ea2fee4",
   "metadata": {},
   "outputs": [],
   "source": [
    "population = 5000"
   ]
  },
  {
   "cell_type": "code",
   "execution_count": 31,
   "id": "8f0bc392",
   "metadata": {},
   "outputs": [],
   "source": [
    "travel_time = lambda q_x, t0_x, Q_x: t0_x * (1 + pow(q_x/Q_x, 2))"
   ]
  },
  {
   "cell_type": "code",
   "execution_count": 32,
   "id": "2767ca8b",
   "metadata": {},
   "outputs": [],
   "source": [
    "class Section:\n",
    "    def __init__(self, name):\n",
    "        self.name = name\n",
    "        self.neighbors = list()\n",
    "    \n",
    "    def make_connection(self, section):\n",
    "        self.neighbors.append(section)"
   ]
  },
  {
   "cell_type": "code",
   "execution_count": 33,
   "id": "c4237e52",
   "metadata": {},
   "outputs": [],
   "source": [
    "class Road:\n",
    "    def __init__(self, origin, destination, free_flow, capacity):\n",
    "        self.origin = origin\n",
    "        self.destination = destination\n",
    "        self.free_flow = free_flow\n",
    "        self.capacity = capacity\n",
    "        self.number_of_vehicles = 0\n",
    "        self.randomness = np.random.rand()/5.0\n",
    "        self.congestion = self.travel_time(self.number_of_vehicles, self.free_flow, self.capacity, self.randomness)\n",
    "    \n",
    "    def reset(self):\n",
    "        self.number_of_vehicles = 0\n",
    "        self.congestion = self.travel_time(self.number_of_vehicles, self.free_flow, self.capacity, self.randomness)\n",
    "        \n",
    "    def travel_time(self, q_x, t0_x, Q_x, randomness):\n",
    "        incident = randomness > np.random.rand()\n",
    "        congestion = t0_x * (1 + pow(q_x/Q_x, 2))\n",
    "        if incident: return congestion * 5 # Road had an incident, congestion increased\n",
    "        else: return congestion\n",
    "    \n",
    "    def add_car(self, influence):\n",
    "        self.number_of_vehicles += influence\n",
    "        self.congestion = self.travel_time(self.number_of_vehicles, self.free_flow, self.capacity, self.randomness)\n",
    "        \n",
    "    def remove_car(self, influence):\n",
    "        self.number_of_vehicles -= influence\n",
    "        self.congestion = self.travel_time(self.number_of_vehicles, self.free_flow, self.capacity, self.randomness)"
   ]
  },
  {
   "cell_type": "code",
   "execution_count": 34,
   "id": "d369c8f2",
   "metadata": {},
   "outputs": [],
   "source": [
    "class Vehicle:\n",
    "    def __init__(self, vehicle_type, origin, destination):\n",
    "        self.vehicle_type = vehicle_type\n",
    "        self.origin = origin\n",
    "        self.original_dest = destination\n",
    "        self.destination = self.original_dest\n",
    "        self.prev_location = None\n",
    "        self.location = origin\n",
    "        self.arrived = False\n",
    "        \n",
    "        self.randomness = np.random.rand()/10.0\n",
    "        \n",
    "    def reset(self):\n",
    "        self.prev_location = None\n",
    "        self.location = self.origin\n",
    "        self.arrived = False\n",
    "        self.destination = self.original_dest\n",
    "        \n",
    "    def move_to_section(self, section):\n",
    "        if (section in self.location.neighbors):\n",
    "            self.prev_location = self.location\n",
    "            self.location = section\n",
    "            if self.location == self.destination:\n",
    "                self.arrived = True \n",
    "        else:\n",
    "            raise ValueError(\"No road between %s and %s\" % (location.name, section.name))\n",
    "        \n",
    "        if self.randomness > np.random.rand(): # Vehicle changed destination for some reason\n",
    "            self.destination = np.random.choice((self.origin, np.random.choice(self.destination.neighbors)))"
   ]
  },
  {
   "cell_type": "code",
   "execution_count": 35,
   "id": "1601f670",
   "metadata": {},
   "outputs": [],
   "source": [
    "class City:\n",
    "    def __init__(self, sections, randomness):\n",
    "        self.sections = sections\n",
    "        self.roads = list()\n",
    "        self.randomness = randomness\n",
    "        \n",
    "    def reset(self):\n",
    "        for r in self.roads: r.reset()\n",
    "        for v in self.vehicles: v.reset()\n",
    "       \n",
    "    def build_road(self, section1_name, section2_name, free_flow, capacity):\n",
    "        if section1_name != section2_name:\n",
    "            section1, section2 = None, None\n",
    "            for s in self.sections:\n",
    "                if s.name == section1_name: section1 = s\n",
    "                elif s.name == section2_name: section2 = s\n",
    "            if not all((section1, section2)): return False\n",
    "            \n",
    "            section1.make_connection(section2)\n",
    "            section2.make_connection(section1)\n",
    "            self.roads.append(Road(section1, section2, free_flow, capacity))\n",
    "            self.roads.append(Road(section2, section1, free_flow, capacity))\n",
    "            return True\n",
    "        else:\n",
    "            print(section1_name, section2_name, \"are the same.\")\n",
    "            return False\n",
    "    \n",
    "    def move_vehicle(self, vehicle, to_section):\n",
    "        if np.random.rand() > self.randomness:\n",
    "            if (not vehicle.arrived) and (to_section in vehicle.location.neighbors):\n",
    "\n",
    "                vehicle_influence = 1 if vehicle.vehicle_type == \"car\" else 2\n",
    "                prev_location, location = vehicle.prev_location, vehicle.location\n",
    "                old_road, new_road = None, None\n",
    "                for v in self.roads:\n",
    "                    if (v.origin == prev_location) and (v.destination == location): old_road = v\n",
    "                    elif (v.origin == location) and (v.destination == to_section): new_road = v\n",
    "                vehicle.move_to_section(to_section)\n",
    "                if old_road: old_road.remove_car(vehicle_influence)\n",
    "                if not vehicle.arrived: new_road.add_car(vehicle_influence)\n",
    "                return True\n",
    "\n",
    "            elif vehicle.arrived:\n",
    "                return True\n",
    "\n",
    "            else:\n",
    "                #print(to_section in vehicle.location.neighbors)\n",
    "                return False\n",
    "            \n",
    "        else: # Vehicle did not move for some reason\n",
    "            return True\n",
    "        \n",
    "    def get_congestion(self):\n",
    "        congestions = []\n",
    "        for road in self.roads: congestions.append(road.congestion)\n",
    "        congestion = sum(congestions)\n",
    "        return congestion        "
   ]
  },
  {
   "cell_type": "code",
   "execution_count": 36,
   "id": "327c0d90",
   "metadata": {},
   "outputs": [],
   "source": [
    "def create_sampling_tables(sect_names, sect_sampling_coeff):\n",
    "    \n",
    "    sections, origin_sample_table, dest_sample_table = list(), list(), list()\n",
    "\n",
    "    for idx, s in enumerate(sect_names):\n",
    "        sections.append(Section(s))\n",
    "        origin_sample_table.extend([sections[-1]]*sect_sampling_coeff[idx][0])\n",
    "        dest_sample_table.extend([sections[-1]]*sect_sampling_coeff[idx][1])\n",
    "    \n",
    "    return sections, origin_sample_table, dest_sample_table"
   ]
  },
  {
   "cell_type": "code",
   "execution_count": 37,
   "id": "a8d96146",
   "metadata": {},
   "outputs": [],
   "source": [
    "def generate_population(nr_vehicles, origin_sample_table, dest_sample_table):\n",
    "    vehicles = list()\n",
    "    for i in range(nr_vehicles):\n",
    "        vehicle_type = \"car\" if np.random.rand() > 0.15 else \"bus\"\n",
    "        origin, destination = np.random.choice(origin_sample_table), np.random.choice(dest_sample_table)\n",
    "        while destination == origin: destination = np.random.choice(dest_sample_table)\n",
    "        vehicles.append(Vehicle(vehicle_type, origin, destination))\n",
    "    return vehicles"
   ]
  },
  {
   "cell_type": "code",
   "execution_count": 38,
   "id": "b6ab22e2",
   "metadata": {},
   "outputs": [],
   "source": [
    "sect_names = [\"AveHub\",\"BusBay\",\"CarCove\",\"DashDale\",\"EcoEnd\",\"FastField\",\"GearBay\",\"HighHill\",\"JamHub\",\"KerbKey\",\"LaneEnd\"]\n",
    "# How often these sections should be origins and destinations?\n",
    "sect_sampling_coeff = [(3, 7), (2, 8), (9, 1), (7, 4), (10, 1), (4, 2), (8, 1), (3, 3), (1, 10), (6, 3), (10, 2)]\n",
    "\n",
    "# Road origins and destinations, free flow durations and capacities\n",
    "roads = [[\"LaneEnd\", \"FastField\", 2/60, 300], [\"FastField\", \"HighHill\", 8/60, 800], [\"HighHill\", \"GearBay\", 6/60, 500],\\\n",
    "         [\"FastField\", \"JamHub\", 13/60, 400], [\"HighHill\", \"BusBay\", 10/60, 500], [\"GearBay\", \"BusBay\", 15/60, 600], \\\n",
    "         [\"GearBay\", \"CarCove\", 25/60, 1000], [\"AveHub\", \"JamHub\", 3/60, 250], [\"JamHub\", \"BusBay\", 4/60, 250], \\\n",
    "         [\"AveHub\", \"EcoEnd\", 15/60, 600], [\"AveHub\", \"KerbKey\", 7/60, 300], [\"JamHub\", \"DashDale\", 9/60, 450], \\\n",
    "         [\"EcoEnd\", \"KerbKey\", 4/60, 250], [\"DashDale\", \"CarCove\", 3/60, 300]]"
   ]
  },
  {
   "cell_type": "code",
   "execution_count": 39,
   "id": "e3e356aa",
   "metadata": {},
   "outputs": [],
   "source": [
    "sections, origin_sample_table, dest_sample_table = create_sampling_tables(sect_names, sect_sampling_coeff)\n",
    "vehicles = generate_population(population, origin_sample_table, dest_sample_table)\n",
    "\n",
    "city = City(sections, 0.05)\n",
    "for road in roads:\n",
    "    city.build_road(road[0], road[1], road[2], road[3])"
   ]
  },
  {
   "cell_type": "code",
   "execution_count": 40,
   "id": "58d31bd3",
   "metadata": {},
   "outputs": [
    {
     "name": "stdout",
     "output_type": "stream",
     "text": [
      "--- Sections ---\n",
      "AveHub neighbors to: ['JamHub', 'EcoEnd', 'KerbKey']\n",
      "BusBay neighbors to: ['HighHill', 'GearBay', 'JamHub']\n",
      "CarCove neighbors to: ['GearBay', 'DashDale']\n",
      "DashDale neighbors to: ['JamHub', 'CarCove']\n",
      "EcoEnd neighbors to: ['AveHub', 'KerbKey']\n",
      "FastField neighbors to: ['LaneEnd', 'HighHill', 'JamHub']\n",
      "GearBay neighbors to: ['HighHill', 'BusBay', 'CarCove']\n",
      "HighHill neighbors to: ['FastField', 'GearBay', 'BusBay']\n",
      "JamHub neighbors to: ['FastField', 'AveHub', 'BusBay', 'DashDale']\n",
      "KerbKey neighbors to: ['AveHub', 'EcoEnd']\n",
      "LaneEnd neighbors to: ['FastField']\n",
      "\n",
      "--- Some of the vehicles ---\n",
      "car is now at FastField. It is going from FastField to KerbKey\n",
      "car is now at EcoEnd. It is going from EcoEnd to DashDale\n",
      "car is now at LaneEnd. It is going from LaneEnd to AveHub\n",
      "car is now at EcoEnd. It is going from EcoEnd to AveHub\n",
      "car is now at CarCove. It is going from CarCove to HighHill\n",
      "car is now at KerbKey. It is going from KerbKey to DashDale\n",
      "car is now at GearBay. It is going from GearBay to JamHub\n",
      "car is now at DashDale. It is going from DashDale to CarCove\n",
      "bus is now at EcoEnd. It is going from EcoEnd to HighHill\n",
      "car is now at LaneEnd. It is going from LaneEnd to JamHub\n"
     ]
    }
   ],
   "source": [
    "print(\"--- Sections ---\")\n",
    "for s in city.sections:\n",
    "    print(s.name, \"neighbors to:\", [x.name for x in s.neighbors])\n",
    "    \n",
    "print(\"\\n--- Some of the vehicles ---\")\n",
    "for v in vehicles[1000:1010]:\n",
    "    print(\"%s is now at %s. It is going from %s to %s\"%(v.vehicle_type, v.location.name, v.origin.name, v.destination.name))"
   ]
  },
  {
   "cell_type": "code",
   "execution_count": 41,
   "id": "0fa3a323",
   "metadata": {},
   "outputs": [
    {
     "name": "stdout",
     "output_type": "stream",
     "text": [
      "EcoEnd is the most popular origin with 825 vehicles.\n",
      " JamHub is the most popular destination with 1245 vehicles.\n"
     ]
    }
   ],
   "source": [
    "origin_dest_counter = {x:[0, 0] for x in sect_names}\n",
    "for v in vehicles:\n",
    "    origin_dest_counter[v.origin.name][0] += 1\n",
    "    origin_dest_counter[v.destination.name][1] += 1\n",
    "    \n",
    "max_dest, max_dest_nr, max_origin, max_origin_nr = None, 0, None, 0\n",
    "for sect, values in origin_dest_counter.items():\n",
    "    org, dest = values\n",
    "    if org > max_origin_nr:\n",
    "        max_origin_nr = org\n",
    "        max_origin = sect\n",
    "    if dest > max_dest_nr:\n",
    "        max_dest_nr = dest\n",
    "        max_dest = sect\n",
    "\n",
    "print(max_origin, \"is the most popular origin with\", max_origin_nr, \"vehicles.\\n\",\\\n",
    "      max_dest, \"is the most popular destination with\", max_dest_nr, \"vehicles.\")"
   ]
  },
  {
   "cell_type": "code",
   "execution_count": 42,
   "id": "b617a6f0",
   "metadata": {},
   "outputs": [
    {
     "name": "stdout",
     "output_type": "stream",
     "text": [
      "\n",
      "--- Some of the vehicles ---\n",
      "car is now at FastField. It is going from FastField to KerbKey\n",
      "car is now at EcoEnd. It is going from EcoEnd to DashDale\n",
      "car is now at LaneEnd. It is going from LaneEnd to AveHub\n",
      "car is now at EcoEnd. It is going from EcoEnd to AveHub\n",
      "car is now at CarCove. It is going from CarCove to HighHill\n",
      "car is now at KerbKey. It is going from KerbKey to DashDale\n",
      "car is now at GearBay. It is going from GearBay to JamHub\n",
      "car is now at DashDale. It is going from DashDale to CarCove\n",
      "bus is now at EcoEnd. It is going from EcoEnd to HighHill\n",
      "car is now at LaneEnd. It is going from LaneEnd to JamHub\n",
      "\n",
      " 4.333333333333333\n",
      "8.769215326388888\n",
      "6.5076473759259255\n",
      "6.531539099074073\n",
      "\n",
      "--- Some of the vehicles ---\n",
      "car is now at JamHub. It is going from FastField to KerbKey\n",
      "car is now at EcoEnd. It is going from EcoEnd to DashDale\n",
      "car is now at FastField. It is going from LaneEnd to LaneEnd\n",
      "car is now at AveHub. It is going from EcoEnd to AveHub\n",
      "car is now at CarCove. It is going from CarCove to HighHill\n",
      "car is now at EcoEnd. It is going from KerbKey to DashDale\n",
      "car is now at BusBay. It is going from GearBay to JamHub\n",
      "car is now at CarCove. It is going from DashDale to CarCove\n",
      "bus is now at KerbKey. It is going from EcoEnd to HighHill\n",
      "car is now at BusBay. It is going from LaneEnd to JamHub\n"
     ]
    }
   ],
   "source": [
    "print(\"\\n--- Some of the vehicles ---\")\n",
    "for v in vehicles[1000:1010]:\n",
    "    print(\"%s is now at %s. It is going from %s to %s\"%(v.vehicle_type, v.location.name, v.origin.name, v.destination.name))\n",
    "\n",
    "print(\"\\n\",city.get_congestion())\n",
    "\n",
    "for v in vehicles:\n",
    "    city.move_vehicle(v, np.random.choice(v.location.neighbors))\n",
    "    \n",
    "print(city.get_congestion())\n",
    "\n",
    "for v in vehicles:\n",
    "    city.move_vehicle(v, np.random.choice(v.location.neighbors))\n",
    "    \n",
    "print(city.get_congestion())\n",
    "\n",
    "for v in vehicles:\n",
    "    city.move_vehicle(v, np.random.choice(v.location.neighbors))\n",
    "    \n",
    "print(city.get_congestion())\n",
    "\n",
    "    \n",
    "print(\"\\n--- Some of the vehicles ---\")\n",
    "for v in vehicles[1000:1010]:\n",
    "    print(\"%s is now at %s. It is going from %s to %s\"%(v.vehicle_type, v.location.name, v.origin.name, v.destination.name))"
   ]
  },
  {
   "cell_type": "code",
   "execution_count": null,
   "id": "90b73743",
   "metadata": {},
   "outputs": [],
   "source": []
  }
 ],
 "metadata": {
  "kernelspec": {
   "display_name": "Python 3",
   "language": "python",
   "name": "python3"
  },
  "language_info": {
   "codemirror_mode": {
    "name": "ipython",
    "version": 3
   },
   "file_extension": ".py",
   "mimetype": "text/x-python",
   "name": "python",
   "nbconvert_exporter": "python",
   "pygments_lexer": "ipython3",
   "version": "3.11.3"
  }
 },
 "nbformat": 4,
 "nbformat_minor": 5
}
