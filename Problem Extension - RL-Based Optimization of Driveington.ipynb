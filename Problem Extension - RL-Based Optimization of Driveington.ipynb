{
  "cells": [
    {
      "cell_type": "code",
      "execution_count": 1,
      "id": "e8ad4226",
      "metadata": {
        "id": "e8ad4226"
      },
      "outputs": [],
      "source": [
        "import matplotlib.pyplot as plt\n",
        "import numpy as np\n",
        "import time"
      ]
    },
    {
      "cell_type": "markdown",
      "source": [
        "# Parameters"
      ],
      "metadata": {
        "id": "NG4DfcUn2fH6"
      },
      "id": "NG4DfcUn2fH6"
    },
    {
      "cell_type": "code",
      "execution_count": 2,
      "id": "0ea2fee4",
      "metadata": {
        "id": "0ea2fee4"
      },
      "outputs": [],
      "source": [
        "population = 500"
      ]
    },
    {
      "cell_type": "code",
      "execution_count": 3,
      "id": "8f0bc392",
      "metadata": {
        "id": "8f0bc392"
      },
      "outputs": [],
      "source": [
        "travel_time = lambda q_x, t0_x, Q_x: t0_x * (1 + pow(q_x/Q_x, 2))"
      ]
    },
    {
      "cell_type": "markdown",
      "source": [
        "# Classes: Sections, Roads, Vehicles and the City"
      ],
      "metadata": {
        "id": "4bZEPx1I2Xr7"
      },
      "id": "4bZEPx1I2Xr7"
    },
    {
      "cell_type": "code",
      "execution_count": 4,
      "id": "2767ca8b",
      "metadata": {
        "id": "2767ca8b"
      },
      "outputs": [],
      "source": [
        "class Section:\n",
        "    def __init__(self, name):\n",
        "        self.name = name\n",
        "        self.id = name[0]\n",
        "        self.neighbors = list()\n",
        "\n",
        "    def make_connection(self, section):\n",
        "        self.neighbors.append(section)\n",
        "        self.neighbors.sort(key=lambda x: x.id)\n",
        "\n",
        "    def is_neighbor(self, section_id):\n",
        "        for n in self.neighbors:\n",
        "            if n.id == section_id:\n",
        "                return True\n",
        "        return False"
      ]
    },
    {
      "cell_type": "code",
      "execution_count": 5,
      "id": "c4237e52",
      "metadata": {
        "id": "c4237e52"
      },
      "outputs": [],
      "source": [
        "class Road:\n",
        "    def __init__(self, origin, destination, free_flow, capacity):\n",
        "\n",
        "        self.origin = origin\n",
        "        self.destination = destination\n",
        "        self.id = self.origin.id + self.destination.id\n",
        "\n",
        "        self.free_flow = free_flow\n",
        "        self.capacity = capacity\n",
        "        self.number_of_vehicles = 0\n",
        "        self.randomness = -1 #np.random.rand()/50.0 # Random behavior of road (temporary increase of congestion)\n",
        "\n",
        "    def reset(self):\n",
        "        self.number_of_vehicles = 0\n",
        "\n",
        "    def get_congestion(self):\n",
        "        return self.travel_time(self.number_of_vehicles, self.free_flow, self.capacity, self.randomness)\n",
        "\n",
        "    def travel_time(self, q_x, t0_x, Q_x, randomness):\n",
        "        incident = randomness > np.random.rand()\n",
        "        congestion = t0_x * (1 + pow(q_x/Q_x, 2)) * (5 if incident else 1)\n",
        "        return congestion\n",
        "\n",
        "    def add_car(self, influence):\n",
        "        self.number_of_vehicles += influence\n",
        "\n",
        "    def remove_car(self, influence):\n",
        "        self.number_of_vehicles -= influence"
      ]
    },
    {
      "cell_type": "code",
      "execution_count": 6,
      "id": "d369c8f2",
      "metadata": {
        "id": "d369c8f2"
      },
      "outputs": [],
      "source": [
        "class Vehicle: # RL Agent\n",
        "\n",
        "    def __init__(self, vehicle_type, origin, destination, alpha=0.3, gamma=0.8, epsilon=1.0):\n",
        "\n",
        "        self.vehicle_type = vehicle_type\n",
        "        self.influence = 1 if (self.vehicle_type == \"car\") else 2\n",
        "        self.id = int(np.random.rand() * 1000)\n",
        "\n",
        "        self.origin = origin\n",
        "        self.original_dest = destination\n",
        "        self.destination = self.original_dest\n",
        "        self.prev_location = None\n",
        "        self.location = origin\n",
        "\n",
        "        self.arrived = False\n",
        "        self.randomness = -1 #np.random.rand()/20.0 # # Random behavior of drivers (destination change)\n",
        "\n",
        "        self.q_table = {}\n",
        "\n",
        "        self.alpha = alpha\n",
        "        self.epsilon = epsilon\n",
        "        self.gamma = gamma\n",
        "\n",
        "    def initialize_q_value(self, state, action): # 1\n",
        "        state_str = str(state)  # string as a key\n",
        "        if state_str not in self.q_table:\n",
        "            self.q_table[state_str] = {}\n",
        "        if action not in self.q_table[state_str]:\n",
        "            self.q_table[state_str][action] = 0.0 # -100.0 # Initialize Q-value to 0\n",
        "\n",
        "    def reset(self):\n",
        "        self.prev_location = None\n",
        "        self.location = self.origin\n",
        "        self.arrived = False\n",
        "        self.destination = self.original_dest\n",
        "\n",
        "    def pick_action(self, state):\n",
        "        loc_id, dest_id, congestions = state\n",
        "\n",
        "        possible_actions = list(congestions.keys())\n",
        "        for a in possible_actions:\n",
        "            self.initialize_q_value(state, a)\n",
        "\n",
        "        if np.random.rand() < self.epsilon:\n",
        "            return np.random.choice(possible_actions)\n",
        "        else:\n",
        "            best_value = float(\"-inf\")\n",
        "            best_action = None\n",
        "            for action in possible_actions:\n",
        "                value = self.q_table[str(state)][action]\n",
        "                if value > best_value:\n",
        "                    best_value = value\n",
        "                    best_action = action\n",
        "            return best_action\n",
        "\n",
        "    def learn(self, state, action, reward, next_state):\n",
        "        prev_loc, dest, prev_congestions = state\n",
        "        new_loc, _, new_congestions = next_state\n",
        "\n",
        "        next_possible_actions = list(new_congestions.keys())\n",
        "        for a in next_possible_actions:\n",
        "            self.initialize_q_value(next_state, a)\n",
        "\n",
        "        best_future_q = max(self.q_table[str(next_state)].values())\n",
        "        prev_q = self.q_table[str(state)][action]\n",
        "        #new_q = ((1.0 - self.alpha) * prev_q) + (self.alpha * (reward + (self.gamma * best_future_q)))\n",
        "        new_q =  prev_q + (self.alpha * (reward + (self.gamma * best_future_q)))\n",
        "        self.q_table[str(state)][action] = new_q\n",
        "\n",
        "    def move_to_section(self, section):\n",
        "\n",
        "        #if section == self.location: return False\n",
        "\n",
        "        self.prev_location = self.location\n",
        "        self.location = section\n",
        "\n",
        "        if self.location == self.destination: self.arrived = True\n",
        "\n",
        "        if self.randomness > np.random.rand(): # Vehicle changed destination for some reason\n",
        "            self.destination = np.random.choice((self.origin, np.random.choice(self.destination.neighbors)))\n",
        "\n",
        "        return True\n",
        "\n",
        "    def decay_epsilon(self, decay_rate, min_epsilon=0):\n",
        "        self.epsilon = max(min_epsilon, self.epsilon * decay_rate)"
      ]
    },
    {
      "cell_type": "code",
      "execution_count": 7,
      "id": "1601f670",
      "metadata": {
        "id": "1601f670"
      },
      "outputs": [],
      "source": [
        "class City: # RL Environment\n",
        "\n",
        "    def __init__(self, sections, randomness):\n",
        "        self.sections = sections\n",
        "        self.roads = list()\n",
        "        self.randomness = -1 # 0.05 # Random behavior of environment\n",
        "\n",
        "    def reset(self):\n",
        "        for r in self.roads: r.reset()\n",
        "\n",
        "    def build_roads(self, roads):\n",
        "        for road in roads:\n",
        "            section1_id, section2_id, free_flow, capacity = road\n",
        "            section1, section2 = self.get_section_from_id(section1_id), self.get_section_from_id(section2_id)\n",
        "            if all((section1, section2)):\n",
        "                section1.make_connection(section2)\n",
        "                section2.make_connection(section1)\n",
        "                self.roads.append(Road(section1, section2, free_flow, capacity))\n",
        "                self.roads.append(Road(section2, section1, free_flow, capacity))\n",
        "\n",
        "    def step(self, vehicle_influence, prev_loc, loc, dest, action):\n",
        "        arrived = (loc.id == dest.id)\n",
        "\n",
        "        action = action if not arrived else loc.id\n",
        "        prev_loc_id = \"x\" if not prev_loc else prev_loc.id\n",
        "        loc_id, to_section_id = loc.id, action\n",
        "\n",
        "        moved = self.move_vehicle(vehicle_influence, prev_loc_id, loc_id, to_section_id)\n",
        "        next_loc_id = to_section_id if moved else loc_id\n",
        "        next_loc = self.get_section_from_id(next_loc_id)\n",
        "\n",
        "        state = self.get_state(next_loc, dest)\n",
        "\n",
        "        step_penalty = 0\n",
        "        if self.get_road_from_o_d(loc_id, next_loc_id):\n",
        "            step_penalty = -1 * self.get_road_from_o_d(loc_id, next_loc_id).get_congestion()\n",
        "        elif (not arrived) and (not moved):\n",
        "            step_penalty = -1 * self.get_road_from_o_d(prev_loc_id, loc_id).get_congestion()\n",
        "\n",
        "        return step_penalty, state, next_loc\n",
        "\n",
        "\n",
        "    def get_state(self, loc, dest):\n",
        "        neighbors = loc.neighbors\n",
        "        neighbor_congestions = {n.id: self.get_road_from_o_d(loc.id, n.id).number_of_vehicles for n in neighbors}\n",
        "        state = [loc.id, dest.id, neighbor_congestions]\n",
        "        return state\n",
        "\n",
        "    def move_vehicle(self, vehicle_influence, prev_loc_id, loc_id, to_section_id):\n",
        "        incident = self.randomness > np.random.rand()\n",
        "        if not incident:\n",
        "            old_road, new_road = self.get_road_from_o_d(prev_loc_id, loc_id), self.get_road_from_o_d(loc_id, to_section_id)\n",
        "            if old_road: old_road.remove_car(vehicle_influence)\n",
        "            if new_road: new_road.add_car(vehicle_influence)\n",
        "            return True\n",
        "        else: # Vehicle did not move for some reason (stochastic environment)\n",
        "            return False\n",
        "\n",
        "    def get_congestion(self):\n",
        "        congestions = []\n",
        "        for road in self.roads: congestions.append(road.get_congestion())\n",
        "        return sum(congestions)\n",
        "\n",
        "    def get_section_from_id(self, section_id):\n",
        "        for s in self.sections:\n",
        "            if s.id == section_id: return s\n",
        "        return None\n",
        "\n",
        "    def get_road_from_o_d(self, origin, destination):\n",
        "        road_id = origin[0] + destination[0]\n",
        "        for r in self.roads:\n",
        "            if r.id == road_id: return r\n",
        "        return None"
      ]
    },
    {
      "cell_type": "markdown",
      "source": [
        "# Constructing the city"
      ],
      "metadata": {
        "id": "sQA64CAI2Mrd"
      },
      "id": "sQA64CAI2Mrd"
    },
    {
      "cell_type": "code",
      "execution_count": 8,
      "id": "327c0d90",
      "metadata": {
        "id": "327c0d90"
      },
      "outputs": [],
      "source": [
        "def create_sampling_tables(sect_names, sect_sampling_coeff):\n",
        "\n",
        "    sections, origin_sample_table, dest_sample_table = list(), list(), list()\n",
        "\n",
        "    for idx, s in enumerate(sect_names):\n",
        "        sections.append(Section(s))\n",
        "        origin_sample_table.extend([sections[-1]]*sect_sampling_coeff[idx][0])\n",
        "        dest_sample_table.extend([sections[-1]]*sect_sampling_coeff[idx][1])\n",
        "\n",
        "    return sections, origin_sample_table, dest_sample_table"
      ]
    },
    {
      "cell_type": "code",
      "execution_count": 9,
      "id": "a8d96146",
      "metadata": {
        "id": "a8d96146"
      },
      "outputs": [],
      "source": [
        "def generate_population(nr_vehicles, origin_sample_table, dest_sample_table):\n",
        "    vehicles = list()\n",
        "    for i in range(nr_vehicles):\n",
        "        vehicle_type = \"car\" if np.random.rand() > 0.05 else \"bus\"\n",
        "        origin, destination = np.random.choice(origin_sample_table), np.random.choice(dest_sample_table)\n",
        "        while destination == origin: destination = np.random.choice(dest_sample_table)\n",
        "        vehicles.append(Vehicle(vehicle_type, origin, destination))\n",
        "    return vehicles"
      ]
    },
    {
      "cell_type": "code",
      "execution_count": 10,
      "id": "b6ab22e2",
      "metadata": {
        "id": "b6ab22e2"
      },
      "outputs": [],
      "source": [
        "sect_names = [\"AveHub\",\"BusBay\",\"CarCove\",\"DashDale\",\"EcoEnd\",\"FastField\",\"GearBay\",\"HighHill\",\"JamHub\",\"KerbKey\",\"LaneEnd\"]\n",
        "# How likely these sections should be origins and destinations?\n",
        "sect_sampling_coeff = [(1, 9), (1, 9), (9, 1), (1, 1), (9, 1), (1, 1), (9, 1), (1, 1), (0, 10), (5, 5), (10, 0)]\n",
        "\n",
        "# Road origins and destinations, free flow durations and capacities\n",
        "roads = [[\"LaneEnd\", \"FastField\", 2/60, 300], [\"FastField\", \"HighHill\", 8/60, 800], [\"HighHill\", \"GearBay\", 6/60, 500],\\\n",
        "         [\"FastField\", \"JamHub\", 13/60, 400], [\"HighHill\", \"BusBay\", 10/60, 500], [\"GearBay\", \"BusBay\", 15/60, 600], \\\n",
        "         [\"GearBay\", \"CarCove\", 25/60, 1000], [\"AveHub\", \"JamHub\", 3/60, 250], [\"JamHub\", \"BusBay\", 4/60, 250], \\\n",
        "         [\"AveHub\", \"EcoEnd\", 15/60, 600], [\"AveHub\", \"KerbKey\", 7/60, 300], [\"JamHub\", \"DashDale\", 9/60, 450], \\\n",
        "         [\"EcoEnd\", \"KerbKey\", 4/60, 250], [\"DashDale\", \"CarCove\", 3/60, 300]]\n",
        "roads = [[r[0][0], r[1][0], r[2], r[3]] for r in roads]"
      ]
    },
    {
      "cell_type": "code",
      "execution_count": 11,
      "id": "e3e356aa",
      "metadata": {
        "id": "e3e356aa"
      },
      "outputs": [],
      "source": [
        "sections, origin_sample_table, dest_sample_table = create_sampling_tables(sect_names, sect_sampling_coeff)\n",
        "vehicles = generate_population(population, origin_sample_table, dest_sample_table)\n",
        "\n",
        "city = City(sections, 0.05)\n",
        "city.build_roads(roads)"
      ]
    },
    {
      "cell_type": "code",
      "execution_count": 12,
      "id": "58d31bd3",
      "metadata": {
        "colab": {
          "base_uri": "https://localhost:8080/"
        },
        "id": "58d31bd3",
        "outputId": "a8573aca-1901-4031-bbb3-168f8f79a02d"
      },
      "outputs": [
        {
          "output_type": "stream",
          "name": "stdout",
          "text": [
            "--- Sections ---\n",
            "AveHub neighbors to: ['EcoEnd', 'JamHub', 'KerbKey']\n",
            "BusBay neighbors to: ['GearBay', 'HighHill', 'JamHub']\n",
            "CarCove neighbors to: ['DashDale', 'GearBay']\n",
            "DashDale neighbors to: ['CarCove', 'JamHub']\n",
            "EcoEnd neighbors to: ['AveHub', 'KerbKey']\n",
            "FastField neighbors to: ['HighHill', 'JamHub', 'LaneEnd']\n",
            "GearBay neighbors to: ['BusBay', 'CarCove', 'HighHill']\n",
            "HighHill neighbors to: ['BusBay', 'FastField', 'GearBay']\n",
            "JamHub neighbors to: ['AveHub', 'BusBay', 'DashDale', 'FastField']\n",
            "KerbKey neighbors to: ['AveHub', 'EcoEnd']\n",
            "LaneEnd neighbors to: ['FastField']\n",
            "\n",
            "--- Some of the vehicles ---\n",
            "car is now at GearBay. It is going from GearBay to KerbKey\n",
            "car is now at GearBay. It is going from GearBay to KerbKey\n",
            "car is now at GearBay. It is going from GearBay to FastField\n",
            "car is now at GearBay. It is going from GearBay to BusBay\n",
            "car is now at CarCove. It is going from CarCove to AveHub\n",
            "car is now at EcoEnd. It is going from EcoEnd to CarCove\n",
            "bus is now at KerbKey. It is going from KerbKey to JamHub\n",
            "car is now at GearBay. It is going from GearBay to AveHub\n",
            "car is now at LaneEnd. It is going from LaneEnd to AveHub\n",
            "car is now at EcoEnd. It is going from EcoEnd to BusBay\n"
          ]
        }
      ],
      "source": [
        "print(\"--- Sections ---\")\n",
        "for s in city.sections:\n",
        "    print(s.name, \"neighbors to:\", [x.name for x in s.neighbors])\n",
        "\n",
        "print(\"\\n--- Some of the vehicles ---\")\n",
        "for v in vehicles[:10]:\n",
        "    print(\"%s is now at %s. It is going from %s to %s\"%(v.vehicle_type, v.location.name, v.origin.name, v.destination.name))"
      ]
    },
    {
      "cell_type": "markdown",
      "id": "b73d2320",
      "metadata": {
        "id": "b73d2320"
      },
      "source": [
        "![image](https://i.imgur.com/faZJu3H.png)"
      ]
    },
    {
      "cell_type": "code",
      "execution_count": 13,
      "id": "0fa3a323",
      "metadata": {
        "colab": {
          "base_uri": "https://localhost:8080/"
        },
        "id": "0fa3a323",
        "outputId": "8d53f5c2-85b5-47ec-b6cc-802a1e7d98e5"
      },
      "outputs": [
        {
          "output_type": "stream",
          "name": "stdout",
          "text": [
            "CarCove is the most popular origin with 109 vehicles.\n",
            " JamHub is the most popular destination with 135 vehicles.\n"
          ]
        }
      ],
      "source": [
        "origin_dest_counter = {x:[0, 0] for x in sect_names}\n",
        "for v in vehicles:\n",
        "    origin_dest_counter[v.origin.name][0] += 1\n",
        "    origin_dest_counter[v.destination.name][1] += 1\n",
        "\n",
        "max_dest, max_dest_nr, max_origin, max_origin_nr = None, 0, None, 0\n",
        "for sect, values in origin_dest_counter.items():\n",
        "    org, dest = values\n",
        "    if org > max_origin_nr:\n",
        "        max_origin_nr = org\n",
        "        max_origin = sect\n",
        "    if dest > max_dest_nr:\n",
        "        max_dest_nr = dest\n",
        "        max_dest = sect\n",
        "\n",
        "print(max_origin, \"is the most popular origin with\", max_origin_nr, \"vehicles.\\n\",\\\n",
        "      max_dest, \"is the most popular destination with\", max_dest_nr, \"vehicles.\")"
      ]
    },
    {
      "cell_type": "markdown",
      "source": [
        "# Training"
      ],
      "metadata": {
        "id": "MoAg8ZBI2Q4q"
      },
      "id": "MoAg8ZBI2Q4q"
    },
    {
      "cell_type": "markdown",
      "source": [
        "## Stats from random agents"
      ],
      "metadata": {
        "id": "7j_Cd7zI2GLb"
      },
      "id": "7j_Cd7zI2GLb"
    },
    {
      "cell_type": "markdown",
      "source": [
        "Let's try out for one episode and see what a set of agents which make decisions at random can achieve in this environment."
      ],
      "metadata": {
        "id": "8U_ShiryjbCM"
      },
      "id": "8U_ShiryjbCM"
    },
    {
      "cell_type": "code",
      "source": [
        "city.reset()\n",
        "trajectories = dict()\n",
        "\n",
        "for v in vehicles:\n",
        "  v.reset()\n",
        "  v.epsilon = 0.1\n",
        "  trajectories[v.id] = [v.location.name]\n",
        "\n",
        "episode_reward = 0\n",
        "step_counter = 0\n",
        "step_congestions = list()\n",
        "\n",
        "while not all([v.arrived for v in vehicles]):\n",
        "\n",
        "    step_counter += 1\n",
        "\n",
        "    for v in vehicles:\n",
        "\n",
        "        state = city.get_state(v.location, v.destination)\n",
        "        action = v.pick_action(state)\n",
        "        step_reward, next_state, next_loc = city.step(v.influence, v.prev_location, v.location, v.destination, action)\n",
        "        v.move_to_section(next_loc)\n",
        "\n",
        "        trajectories[v.id].append(next_loc.name)\n",
        "\n",
        "        episode_reward += step_reward\n",
        "\n",
        "    step_congestions.append(city.get_congestion())\n",
        "\n",
        "print(\"Finished episode in %d steps.\" % (step_counter))\n",
        "print(\"Total reward: %.3f\\n\" % (episode_reward))\n",
        "\n",
        "plt.plot(step_congestions, color=\"red\")\n",
        "plt.grid(True)\n",
        "plt.xlabel(\"Steps\")\n",
        "plt.ylabel(\"Traffic congestion\")\n",
        "plt.show()"
      ],
      "metadata": {
        "colab": {
          "base_uri": "https://localhost:8080/",
          "height": 504
        },
        "id": "0vGU5t3q0OtA",
        "outputId": "51fb3c0a-63d5-4d9b-9657-892349f37645"
      },
      "id": "0vGU5t3q0OtA",
      "execution_count": 14,
      "outputs": [
        {
          "output_type": "stream",
          "name": "stdout",
          "text": [
            "Finished episode in 7870 steps.\n",
            "Total reward: -33493.414\n",
            "\n"
          ]
        },
        {
          "output_type": "display_data",
          "data": {
            "text/plain": [
              "<Figure size 640x480 with 1 Axes>"
            ],
            "image/png": "[encoded data removed]"
          },
          "metadata": {}
        }
      ]
    },
    {
      "cell_type": "code",
      "source": [
        "for v in vehicles[:10]:\n",
        "  print(\"%s #%d moving from %s to %s followed (first 10): \" % (v.vehicle_type, v.id, v.origin.name, v.destination.name), trajectories[v.id][:10])"
      ],
      "metadata": {
        "colab": {
          "base_uri": "https://localhost:8080/"
        },
        "id": "iDRYlXq2joFo",
        "outputId": "0b290c54-1379-4095-b9e0-1e60f85b4705"
      },
      "id": "iDRYlXq2joFo",
      "execution_count": 15,
      "outputs": [
        {
          "output_type": "stream",
          "name": "stdout",
          "text": [
            "car #785 moving from GearBay to KerbKey followed (first 10):  ['GearBay', 'BusBay', 'GearBay', 'BusBay', 'GearBay', 'BusBay', 'GearBay', 'BusBay', 'GearBay', 'BusBay']\n",
            "car #280 moving from GearBay to KerbKey followed (first 10):  ['GearBay', 'BusBay', 'GearBay', 'BusBay', 'GearBay', 'BusBay', 'GearBay', 'BusBay', 'GearBay', 'BusBay']\n",
            "car #81 moving from GearBay to FastField followed (first 10):  ['EcoEnd', 'BusBay', 'AveHub', 'GearBay', 'EcoEnd', 'BusBay', 'AveHub', 'GearBay', 'EcoEnd', 'BusBay']\n",
            "car #911 moving from GearBay to BusBay followed (first 10):  ['GearBay', 'BusBay', 'BusBay', 'BusBay', 'BusBay', 'BusBay', 'BusBay', 'BusBay', 'BusBay', 'BusBay']\n",
            "car #237 moving from CarCove to AveHub followed (first 10):  ['CarCove', 'DashDale', 'CarCove', 'DashDale', 'CarCove', 'DashDale', 'CarCove', 'DashDale', 'CarCove', 'DashDale']\n",
            "car #140 moving from EcoEnd to CarCove followed (first 10):  ['AveHub', 'KerbKey', 'FastField', 'AveHub', 'EcoEnd', 'AveHub', 'HighHill', 'EcoEnd', 'AveHub', 'EcoEnd']\n",
            "bus #705 moving from KerbKey to JamHub followed (first 10):  ['KerbKey', 'AveHub', 'EcoEnd', 'AveHub', 'EcoEnd', 'AveHub', 'EcoEnd', 'AveHub', 'EcoEnd', 'AveHub']\n",
            "car #635 moving from GearBay to AveHub followed (first 10):  ['CarCove', 'BusBay', 'DashDale', 'HighHill', 'CarCove', 'BusBay', 'DashDale', 'GearBay', 'CarCove', 'BusBay']\n",
            "car #441 moving from LaneEnd to AveHub followed (first 10):  ['LaneEnd', 'FastField', 'HighHill', 'BusBay', 'HighHill', 'BusBay', 'GearBay', 'BusBay', 'GearBay', 'BusBay']\n",
            "car #300 moving from EcoEnd to BusBay followed (first 10):  ['GearBay', 'AveHub', 'BusBay', 'BusBay', 'EcoEnd', 'GearBay', 'GearBay', 'AveHub', 'HighHill', 'CarCove']\n"
          ]
        }
      ]
    },
    {
      "cell_type": "markdown",
      "source": [
        "## Training Loop"
      ],
      "metadata": {
        "id": "vrIoJjGD2De8"
      },
      "id": "vrIoJjGD2De8"
    },
    {
      "cell_type": "code",
      "execution_count": 16,
      "id": "b617a6f0",
      "metadata": {
        "colab": {
          "base_uri": "https://localhost:8080/",
          "height": 551
        },
        "id": "b617a6f0",
        "outputId": "1dadd6b0-9661-4aef-a23b-20cd90c3e6d1"
      },
      "outputs": [
        {
          "output_type": "stream",
          "name": "stdout",
          "text": [
            "\rAt episode: 1\r------------ EPISODE #1 ------------\n",
            " [FINAL REWARD] -6775.306 [EPSILON] 0.099000 [STEPS] 322\n",
            "------------ EPISODE #200 ------------\n",
            " [FINAL REWARD] -1713.937 [EPSILON] 0.013398 [STEPS] 112\n",
            "------------ EPISODE #400 ------------\n",
            " [FINAL REWARD] -1194.598 [EPSILON] 0.001795 [STEPS] 98\n",
            "------------ EPISODE #600 ------------\n",
            " [FINAL REWARD] -1187.617 [EPSILON] 0.000241 [STEPS] 90\n",
            "At episode: 695"
          ]
        },
        {
          "output_type": "error",
          "ename": "KeyboardInterrupt",
          "evalue": "ignored",
          "traceback": [
            "\u001b[0;31m---------------------------------------------------------------------------\u001b[0m",
            "\u001b[0;31mKeyboardInterrupt\u001b[0m                         Traceback (most recent call last)",
            "\u001b[0;32m<ipython-input-16-433d9a96226d>\u001b[0m in \u001b[0;36m<cell line: 8>\u001b[0;34m()\u001b[0m\n\u001b[1;32m     21\u001b[0m \u001b[0;34m\u001b[0m\u001b[0m\n\u001b[1;32m     22\u001b[0m             \u001b[0mstate\u001b[0m \u001b[0;34m=\u001b[0m \u001b[0mcity\u001b[0m\u001b[0;34m.\u001b[0m\u001b[0mget_state\u001b[0m\u001b[0;34m(\u001b[0m\u001b[0mv\u001b[0m\u001b[0;34m.\u001b[0m\u001b[0mlocation\u001b[0m\u001b[0;34m,\u001b[0m \u001b[0mv\u001b[0m\u001b[0;34m.\u001b[0m\u001b[0mdestination\u001b[0m\u001b[0;34m)\u001b[0m\u001b[0;34m\u001b[0m\u001b[0;34m\u001b[0m\u001b[0m\n\u001b[0;32m---> 23\u001b[0;31m             \u001b[0maction\u001b[0m \u001b[0;34m=\u001b[0m \u001b[0mv\u001b[0m\u001b[0;34m.\u001b[0m\u001b[0mpick_action\u001b[0m\u001b[0;34m(\u001b[0m\u001b[0mstate\u001b[0m\u001b[0;34m)\u001b[0m\u001b[0;34m\u001b[0m\u001b[0;34m\u001b[0m\u001b[0m\n\u001b[0m\u001b[1;32m     24\u001b[0m             \u001b[0mstep_reward\u001b[0m\u001b[0;34m,\u001b[0m \u001b[0mnext_state\u001b[0m\u001b[0;34m,\u001b[0m \u001b[0mnext_loc\u001b[0m \u001b[0;34m=\u001b[0m \u001b[0mcity\u001b[0m\u001b[0;34m.\u001b[0m\u001b[0mstep\u001b[0m\u001b[0;34m(\u001b[0m\u001b[0mv\u001b[0m\u001b[0;34m.\u001b[0m\u001b[0minfluence\u001b[0m\u001b[0;34m,\u001b[0m \u001b[0mv\u001b[0m\u001b[0;34m.\u001b[0m\u001b[0mprev_location\u001b[0m\u001b[0;34m,\u001b[0m \u001b[0mv\u001b[0m\u001b[0;34m.\u001b[0m\u001b[0mlocation\u001b[0m\u001b[0;34m,\u001b[0m \u001b[0mv\u001b[0m\u001b[0;34m.\u001b[0m\u001b[0mdestination\u001b[0m\u001b[0;34m,\u001b[0m \u001b[0maction\u001b[0m\u001b[0;34m)\u001b[0m\u001b[0;34m\u001b[0m\u001b[0;34m\u001b[0m\u001b[0m\n\u001b[1;32m     25\u001b[0m             \u001b[0mv\u001b[0m\u001b[0;34m.\u001b[0m\u001b[0mlearn\u001b[0m\u001b[0;34m(\u001b[0m\u001b[0mstate\u001b[0m\u001b[0;34m,\u001b[0m \u001b[0maction\u001b[0m\u001b[0;34m,\u001b[0m \u001b[0mstep_reward\u001b[0m\u001b[0;34m,\u001b[0m \u001b[0mnext_state\u001b[0m\u001b[0;34m)\u001b[0m\u001b[0;34m\u001b[0m\u001b[0;34m\u001b[0m\u001b[0m\n",
            "\u001b[0;32m<ipython-input-6-c4b37f5df3fa>\u001b[0m in \u001b[0;36mpick_action\u001b[0;34m(self, state)\u001b[0m\n\u001b[1;32m     42\u001b[0m             \u001b[0mself\u001b[0m\u001b[0;34m.\u001b[0m\u001b[0minitialize_q_value\u001b[0m\u001b[0;34m(\u001b[0m\u001b[0mstate\u001b[0m\u001b[0;34m,\u001b[0m \u001b[0ma\u001b[0m\u001b[0;34m)\u001b[0m\u001b[0;34m\u001b[0m\u001b[0;34m\u001b[0m\u001b[0m\n\u001b[1;32m     43\u001b[0m \u001b[0;34m\u001b[0m\u001b[0m\n\u001b[0;32m---> 44\u001b[0;31m         \u001b[0;32mif\u001b[0m \u001b[0mnp\u001b[0m\u001b[0;34m.\u001b[0m\u001b[0mrandom\u001b[0m\u001b[0;34m.\u001b[0m\u001b[0mrand\u001b[0m\u001b[0;34m(\u001b[0m\u001b[0;34m)\u001b[0m \u001b[0;34m<\u001b[0m \u001b[0mself\u001b[0m\u001b[0;34m.\u001b[0m\u001b[0mepsilon\u001b[0m\u001b[0;34m:\u001b[0m\u001b[0;34m\u001b[0m\u001b[0;34m\u001b[0m\u001b[0m\n\u001b[0m\u001b[1;32m     45\u001b[0m             \u001b[0;32mreturn\u001b[0m \u001b[0mnp\u001b[0m\u001b[0;34m.\u001b[0m\u001b[0mrandom\u001b[0m\u001b[0;34m.\u001b[0m\u001b[0mchoice\u001b[0m\u001b[0;34m(\u001b[0m\u001b[0mpossible_actions\u001b[0m\u001b[0;34m)\u001b[0m\u001b[0;34m\u001b[0m\u001b[0;34m\u001b[0m\u001b[0m\n\u001b[1;32m     46\u001b[0m         \u001b[0;32melse\u001b[0m\u001b[0;34m:\u001b[0m\u001b[0;34m\u001b[0m\u001b[0;34m\u001b[0m\u001b[0m\n",
            "\u001b[0;31mKeyboardInterrupt\u001b[0m: "
          ]
        }
      ],
      "source": [
        "episode_rewards = list()\n",
        "episode_steps = list()\n",
        "num_episodes = 10000#0\n",
        "decay_rate = 0.99#99\n",
        "\n",
        "start_time = time.time()\n",
        "\n",
        "for episode in range(num_episodes):\n",
        "\n",
        "    city.reset()\n",
        "    for v in vehicles: v.reset()\n",
        "\n",
        "    episode_reward = 0\n",
        "    step_counter = 0\n",
        "\n",
        "    while not all([v.arrived for v in vehicles]):\n",
        "\n",
        "        step_counter += 1\n",
        "\n",
        "        for v in vehicles:\n",
        "\n",
        "            state = city.get_state(v.location, v.destination)\n",
        "            action = v.pick_action(state)\n",
        "            step_reward, next_state, next_loc = city.step(v.influence, v.prev_location, v.location, v.destination, action)\n",
        "            v.learn(state, action, step_reward, next_state)\n",
        "            v.move_to_section(next_loc)\n",
        "\n",
        "            episode_reward += step_reward\n",
        "\n",
        "    print(\"\\rAt episode: %d\" % (episode+1), end='')\n",
        "    episode_steps.append(step_counter)\n",
        "    episode_rewards.append(episode_reward)\n",
        "\n",
        "    for v in vehicles: v.decay_epsilon(decay_rate)\n",
        "\n",
        "    if ((episode+1) % (num_episodes//50) == 0) or (episode == 0):\n",
        "        print(\"\\r------------ EPISODE #%d ------------\\n [FINAL REWARD] %.3f [EPSILON] %.6f [STEPS] %d\" \\\n",
        "              % (episode+1, episode_reward, v.epsilon, step_counter))\n",
        "\n",
        "\n",
        "print(\"\\n\\n[COMPLETED] : %s\" % (time.strftime(\"%H hours, %M minutes, %S seconds\", time.gmtime(time.time() - start_time))))\n"
      ]
    },
    {
      "cell_type": "code",
      "source": [
        "#a = {item: value for item, value in v.q_table.items() if item[:9] == \"['B', 'B'\"}\n",
        "#print(a)\n",
        "#v.q_table.items()"
      ],
      "metadata": {
        "id": "WoulJnhFjstd"
      },
      "id": "WoulJnhFjstd",
      "execution_count": null,
      "outputs": []
    },
    {
      "cell_type": "code",
      "execution_count": null,
      "id": "90b73743",
      "metadata": {
        "id": "90b73743"
      },
      "outputs": [],
      "source": [
        "plt.plot(episode_rewards, color=\"purple\")\n",
        "plt.xlabel(\"Episode\")\n",
        "plt.ylabel(\"Episode rewards\")\n",
        "plt.grid(True)\n",
        "plt.show()"
      ]
    },
    {
      "cell_type": "code",
      "execution_count": null,
      "id": "28ed7485",
      "metadata": {
        "id": "28ed7485"
      },
      "outputs": [],
      "source": [
        "plt.plot(episode_steps, color=\"purple\")\n",
        "plt.xlabel(\"Episode\")\n",
        "plt.ylabel(\"Episode steps\")\n",
        "plt.grid(True)\n",
        "plt.show()"
      ]
    },
    {
      "cell_type": "markdown",
      "source": [
        "# Testing the agents"
      ],
      "metadata": {
        "id": "RY-AmGcRSQob"
      },
      "id": "RY-AmGcRSQob"
    },
    {
      "cell_type": "code",
      "source": [
        "city.reset()\n",
        "trajectories = dict()\n",
        "\n",
        "for v in vehicles:\n",
        "  v.reset()\n",
        "  v.epsilon = 0.1\n",
        "  trajectories[v.id] = [v.location.name]\n",
        "\n",
        "episode_reward = 0\n",
        "step_counter = 0\n",
        "step_congestions = list()\n",
        "\n",
        "while not all([v.arrived for v in vehicles]):\n",
        "\n",
        "    step_counter += 1\n",
        "\n",
        "    for v in vehicles:\n",
        "\n",
        "        state = city.get_state(v.location, v.destination)\n",
        "        action = v.pick_action(state)\n",
        "        step_reward, next_state, next_loc = city.step(v.influence, v.prev_location, v.location, v.destination, action)\n",
        "        v.move_to_section(next_loc)\n",
        "\n",
        "        trajectories[v.id].append(next_loc.name)\n",
        "\n",
        "        episode_reward += step_reward\n",
        "    print(\"\\rStep: %d\" % (step_counter), end='')\n",
        "    step_congestions.append(city.get_congestion())\n",
        "\n",
        "print(\"\\nFinished episode in %d steps.\" % (step_counter))\n",
        "print(\"Total reward: %.3f\\n\\n\" % (episode_reward))\n",
        "\n",
        "plt.plot(step_congestions, color=\"red\")\n",
        "plt.grid(True)\n",
        "plt.xlabel(\"Steps\")\n",
        "plt.ylabel(\"Traffic congestion\")\n",
        "plt.show()"
      ],
      "metadata": {
        "id": "KBFkL3i4N6CS"
      },
      "id": "KBFkL3i4N6CS",
      "execution_count": null,
      "outputs": []
    },
    {
      "cell_type": "code",
      "source": [
        "for v in vehicles[:10]:\n",
        "  print(\"%s #%d moving from %s to %s followed (first 10): \" % (v.vehicle_type, v.id, v.origin.name, v.destination.name), trajectories[v.id][:10])"
      ],
      "metadata": {
        "id": "fakktJ7XkBeo"
      },
      "id": "fakktJ7XkBeo",
      "execution_count": null,
      "outputs": []
    }
  ],
  "metadata": {
    "kernelspec": {
      "display_name": "Python 3",
      "name": "python3"
    },
    "language_info": {
      "codemirror_mode": {
        "name": "ipython",
        "version": 3
      },
      "file_extension": ".py",
      "mimetype": "text/x-python",
      "name": "python",
      "nbconvert_exporter": "python",
      "pygments_lexer": "ipython3",
      "version": "3.11.3"
    },
    "colab": {
      "provenance": [],
      "machine_shape": "hm"
    }
  },
  "nbformat": 4,
  "nbformat_minor": 5
}